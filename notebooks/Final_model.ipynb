{
 "cells": [
  {
   "cell_type": "markdown",
   "source": [
    "# Predicting beer style with a neural network model"
   ],
   "metadata": {}
  },
  {
   "cell_type": "code",
   "execution_count": 147,
   "source": [
    "import pandas as pd\r\n",
    "import numpy as np\r\n",
    "import seaborn as sns\r\n",
    "from sklearn.preprocessing import StandardScaler, LabelEncoder\r\n",
    "from sklearn.model_selection import train_test_split\r\n",
    "from joblib import dump\r\n",
    "import category_encoders as ce\r\n",
    "\r\n",
    "from torch.utils.data import Dataset, DataLoader\r\n",
    "import torch\r\n",
    "import torch.nn as nn\r\n",
    "import torch.nn.functional as F"
   ],
   "outputs": [],
   "metadata": {}
  },
  {
   "cell_type": "markdown",
   "source": [
    "### Section 1: Data exploration from BeerAdvocates\n",
    "\n",
    "We import data from BeerAdvocates.com"
   ],
   "metadata": {}
  },
  {
   "cell_type": "code",
   "execution_count": 98,
   "source": [
    "df = pd.read_csv(\"../data/raw/beer_reviews.csv\")"
   ],
   "outputs": [],
   "metadata": {}
  },
  {
   "cell_type": "markdown",
   "source": [
    "There are 1.6 million reviews and 13 columns"
   ],
   "metadata": {}
  },
  {
   "cell_type": "code",
   "execution_count": 99,
   "source": [
    "df.shape"
   ],
   "outputs": [
    {
     "output_type": "execute_result",
     "data": {
      "text/plain": [
       "(1586614, 13)"
      ]
     },
     "metadata": {},
     "execution_count": 99
    }
   ],
   "metadata": {}
  },
  {
   "cell_type": "code",
   "execution_count": 100,
   "source": [
    "df.head()"
   ],
   "outputs": [
    {
     "output_type": "execute_result",
     "data": {
      "text/plain": [
       "   brewery_id             brewery_name  review_time  review_overall  \\\n",
       "0       10325          Vecchio Birraio   1234817823             1.5   \n",
       "1       10325          Vecchio Birraio   1235915097             3.0   \n",
       "2       10325          Vecchio Birraio   1235916604             3.0   \n",
       "3       10325          Vecchio Birraio   1234725145             3.0   \n",
       "4        1075  Caldera Brewing Company   1293735206             4.0   \n",
       "\n",
       "   review_aroma  review_appearance review_profilename  \\\n",
       "0           2.0                2.5            stcules   \n",
       "1           2.5                3.0            stcules   \n",
       "2           2.5                3.0            stcules   \n",
       "3           3.0                3.5            stcules   \n",
       "4           4.5                4.0     johnmichaelsen   \n",
       "\n",
       "                       beer_style  review_palate  review_taste  \\\n",
       "0                      Hefeweizen            1.5           1.5   \n",
       "1              English Strong Ale            3.0           3.0   \n",
       "2          Foreign / Export Stout            3.0           3.0   \n",
       "3                 German Pilsener            2.5           3.0   \n",
       "4  American Double / Imperial IPA            4.0           4.5   \n",
       "\n",
       "                beer_name  beer_abv  beer_beerid  \n",
       "0            Sausa Weizen       5.0        47986  \n",
       "1                Red Moon       6.2        48213  \n",
       "2  Black Horse Black Beer       6.5        48215  \n",
       "3              Sausa Pils       5.0        47969  \n",
       "4           Cauldron DIPA       7.7        64883  "
      ],
      "text/html": [
       "<div>\n",
       "<style scoped>\n",
       "    .dataframe tbody tr th:only-of-type {\n",
       "        vertical-align: middle;\n",
       "    }\n",
       "\n",
       "    .dataframe tbody tr th {\n",
       "        vertical-align: top;\n",
       "    }\n",
       "\n",
       "    .dataframe thead th {\n",
       "        text-align: right;\n",
       "    }\n",
       "</style>\n",
       "<table border=\"1\" class=\"dataframe\">\n",
       "  <thead>\n",
       "    <tr style=\"text-align: right;\">\n",
       "      <th></th>\n",
       "      <th>brewery_id</th>\n",
       "      <th>brewery_name</th>\n",
       "      <th>review_time</th>\n",
       "      <th>review_overall</th>\n",
       "      <th>review_aroma</th>\n",
       "      <th>review_appearance</th>\n",
       "      <th>review_profilename</th>\n",
       "      <th>beer_style</th>\n",
       "      <th>review_palate</th>\n",
       "      <th>review_taste</th>\n",
       "      <th>beer_name</th>\n",
       "      <th>beer_abv</th>\n",
       "      <th>beer_beerid</th>\n",
       "    </tr>\n",
       "  </thead>\n",
       "  <tbody>\n",
       "    <tr>\n",
       "      <th>0</th>\n",
       "      <td>10325</td>\n",
       "      <td>Vecchio Birraio</td>\n",
       "      <td>1234817823</td>\n",
       "      <td>1.5</td>\n",
       "      <td>2.0</td>\n",
       "      <td>2.5</td>\n",
       "      <td>stcules</td>\n",
       "      <td>Hefeweizen</td>\n",
       "      <td>1.5</td>\n",
       "      <td>1.5</td>\n",
       "      <td>Sausa Weizen</td>\n",
       "      <td>5.0</td>\n",
       "      <td>47986</td>\n",
       "    </tr>\n",
       "    <tr>\n",
       "      <th>1</th>\n",
       "      <td>10325</td>\n",
       "      <td>Vecchio Birraio</td>\n",
       "      <td>1235915097</td>\n",
       "      <td>3.0</td>\n",
       "      <td>2.5</td>\n",
       "      <td>3.0</td>\n",
       "      <td>stcules</td>\n",
       "      <td>English Strong Ale</td>\n",
       "      <td>3.0</td>\n",
       "      <td>3.0</td>\n",
       "      <td>Red Moon</td>\n",
       "      <td>6.2</td>\n",
       "      <td>48213</td>\n",
       "    </tr>\n",
       "    <tr>\n",
       "      <th>2</th>\n",
       "      <td>10325</td>\n",
       "      <td>Vecchio Birraio</td>\n",
       "      <td>1235916604</td>\n",
       "      <td>3.0</td>\n",
       "      <td>2.5</td>\n",
       "      <td>3.0</td>\n",
       "      <td>stcules</td>\n",
       "      <td>Foreign / Export Stout</td>\n",
       "      <td>3.0</td>\n",
       "      <td>3.0</td>\n",
       "      <td>Black Horse Black Beer</td>\n",
       "      <td>6.5</td>\n",
       "      <td>48215</td>\n",
       "    </tr>\n",
       "    <tr>\n",
       "      <th>3</th>\n",
       "      <td>10325</td>\n",
       "      <td>Vecchio Birraio</td>\n",
       "      <td>1234725145</td>\n",
       "      <td>3.0</td>\n",
       "      <td>3.0</td>\n",
       "      <td>3.5</td>\n",
       "      <td>stcules</td>\n",
       "      <td>German Pilsener</td>\n",
       "      <td>2.5</td>\n",
       "      <td>3.0</td>\n",
       "      <td>Sausa Pils</td>\n",
       "      <td>5.0</td>\n",
       "      <td>47969</td>\n",
       "    </tr>\n",
       "    <tr>\n",
       "      <th>4</th>\n",
       "      <td>1075</td>\n",
       "      <td>Caldera Brewing Company</td>\n",
       "      <td>1293735206</td>\n",
       "      <td>4.0</td>\n",
       "      <td>4.5</td>\n",
       "      <td>4.0</td>\n",
       "      <td>johnmichaelsen</td>\n",
       "      <td>American Double / Imperial IPA</td>\n",
       "      <td>4.0</td>\n",
       "      <td>4.5</td>\n",
       "      <td>Cauldron DIPA</td>\n",
       "      <td>7.7</td>\n",
       "      <td>64883</td>\n",
       "    </tr>\n",
       "  </tbody>\n",
       "</table>\n",
       "</div>"
      ]
     },
     "metadata": {},
     "execution_count": 100
    }
   ],
   "metadata": {}
  },
  {
   "cell_type": "markdown",
   "source": [
    "The expected API parameter brewery name has 15 null values. \n",
    "The expected API parameter beer_abv (alcohol level) has ~70000 nulls"
   ],
   "metadata": {}
  },
  {
   "cell_type": "code",
   "execution_count": 101,
   "source": [
    "df.info()"
   ],
   "outputs": [
    {
     "output_type": "stream",
     "name": "stdout",
     "text": [
      "<class 'pandas.core.frame.DataFrame'>\n",
      "RangeIndex: 1586614 entries, 0 to 1586613\n",
      "Data columns (total 13 columns):\n",
      "brewery_id            1586614 non-null int64\n",
      "brewery_name          1586599 non-null object\n",
      "review_time           1586614 non-null int64\n",
      "review_overall        1586614 non-null float64\n",
      "review_aroma          1586614 non-null float64\n",
      "review_appearance     1586614 non-null float64\n",
      "review_profilename    1586266 non-null object\n",
      "beer_style            1586614 non-null object\n",
      "review_palate         1586614 non-null float64\n",
      "review_taste          1586614 non-null float64\n",
      "beer_name             1586614 non-null object\n",
      "beer_abv              1518829 non-null float64\n",
      "beer_beerid           1586614 non-null int64\n",
      "dtypes: float64(6), int64(3), object(4)\n",
      "memory usage: 157.4+ MB\n"
     ]
    }
   ],
   "metadata": {}
  },
  {
   "cell_type": "code",
   "execution_count": 102,
   "source": [
    "df.describe(include='all')"
   ],
   "outputs": [
    {
     "output_type": "execute_result",
     "data": {
      "text/plain": [
       "          brewery_id                        brewery_name   review_time  \\\n",
       "count   1.586614e+06                             1586599  1.586614e+06   \n",
       "unique           NaN                                5742           NaN   \n",
       "top              NaN  Boston Beer Company (Samuel Adams)           NaN   \n",
       "freq             NaN                               39444           NaN   \n",
       "mean    3.130099e+03                                 NaN  1.224089e+09   \n",
       "std     5.578104e+03                                 NaN  7.654427e+07   \n",
       "min     1.000000e+00                                 NaN  8.406720e+08   \n",
       "25%     1.430000e+02                                 NaN  1.173224e+09   \n",
       "50%     4.290000e+02                                 NaN  1.239203e+09   \n",
       "75%     2.372000e+03                                 NaN  1.288568e+09   \n",
       "max     2.800300e+04                                 NaN  1.326285e+09   \n",
       "\n",
       "        review_overall  review_aroma  review_appearance review_profilename  \\\n",
       "count     1.586614e+06  1.586614e+06       1.586614e+06            1586266   \n",
       "unique             NaN           NaN                NaN              33387   \n",
       "top                NaN           NaN                NaN     northyorksammy   \n",
       "freq               NaN           NaN                NaN               5817   \n",
       "mean      3.815581e+00  3.735636e+00       3.841642e+00                NaN   \n",
       "std       7.206219e-01  6.976167e-01       6.160928e-01                NaN   \n",
       "min       0.000000e+00  1.000000e+00       0.000000e+00                NaN   \n",
       "25%       3.500000e+00  3.500000e+00       3.500000e+00                NaN   \n",
       "50%       4.000000e+00  4.000000e+00       4.000000e+00                NaN   \n",
       "75%       4.500000e+00  4.000000e+00       4.000000e+00                NaN   \n",
       "max       5.000000e+00  5.000000e+00       5.000000e+00                NaN   \n",
       "\n",
       "          beer_style  review_palate  review_taste      beer_name  \\\n",
       "count        1586614   1.586614e+06  1.586614e+06        1586614   \n",
       "unique           104            NaN           NaN          56857   \n",
       "top     American IPA            NaN           NaN  90 Minute IPA   \n",
       "freq          117586            NaN           NaN           3290   \n",
       "mean             NaN   3.743701e+00  3.792860e+00            NaN   \n",
       "std              NaN   6.822184e-01  7.319696e-01            NaN   \n",
       "min              NaN   1.000000e+00  1.000000e+00            NaN   \n",
       "25%              NaN   3.500000e+00  3.500000e+00            NaN   \n",
       "50%              NaN   4.000000e+00  4.000000e+00            NaN   \n",
       "75%              NaN   4.000000e+00  4.500000e+00            NaN   \n",
       "max              NaN   5.000000e+00  5.000000e+00            NaN   \n",
       "\n",
       "            beer_abv   beer_beerid  \n",
       "count   1.518829e+06  1.586614e+06  \n",
       "unique           NaN           NaN  \n",
       "top              NaN           NaN  \n",
       "freq             NaN           NaN  \n",
       "mean    7.042387e+00  2.171279e+04  \n",
       "std     2.322526e+00  2.181834e+04  \n",
       "min     1.000000e-02  3.000000e+00  \n",
       "25%     5.200000e+00  1.717000e+03  \n",
       "50%     6.500000e+00  1.390600e+04  \n",
       "75%     8.500000e+00  3.944100e+04  \n",
       "max     5.770000e+01  7.731700e+04  "
      ],
      "text/html": [
       "<div>\n",
       "<style scoped>\n",
       "    .dataframe tbody tr th:only-of-type {\n",
       "        vertical-align: middle;\n",
       "    }\n",
       "\n",
       "    .dataframe tbody tr th {\n",
       "        vertical-align: top;\n",
       "    }\n",
       "\n",
       "    .dataframe thead th {\n",
       "        text-align: right;\n",
       "    }\n",
       "</style>\n",
       "<table border=\"1\" class=\"dataframe\">\n",
       "  <thead>\n",
       "    <tr style=\"text-align: right;\">\n",
       "      <th></th>\n",
       "      <th>brewery_id</th>\n",
       "      <th>brewery_name</th>\n",
       "      <th>review_time</th>\n",
       "      <th>review_overall</th>\n",
       "      <th>review_aroma</th>\n",
       "      <th>review_appearance</th>\n",
       "      <th>review_profilename</th>\n",
       "      <th>beer_style</th>\n",
       "      <th>review_palate</th>\n",
       "      <th>review_taste</th>\n",
       "      <th>beer_name</th>\n",
       "      <th>beer_abv</th>\n",
       "      <th>beer_beerid</th>\n",
       "    </tr>\n",
       "  </thead>\n",
       "  <tbody>\n",
       "    <tr>\n",
       "      <th>count</th>\n",
       "      <td>1.586614e+06</td>\n",
       "      <td>1586599</td>\n",
       "      <td>1.586614e+06</td>\n",
       "      <td>1.586614e+06</td>\n",
       "      <td>1.586614e+06</td>\n",
       "      <td>1.586614e+06</td>\n",
       "      <td>1586266</td>\n",
       "      <td>1586614</td>\n",
       "      <td>1.586614e+06</td>\n",
       "      <td>1.586614e+06</td>\n",
       "      <td>1586614</td>\n",
       "      <td>1.518829e+06</td>\n",
       "      <td>1.586614e+06</td>\n",
       "    </tr>\n",
       "    <tr>\n",
       "      <th>unique</th>\n",
       "      <td>NaN</td>\n",
       "      <td>5742</td>\n",
       "      <td>NaN</td>\n",
       "      <td>NaN</td>\n",
       "      <td>NaN</td>\n",
       "      <td>NaN</td>\n",
       "      <td>33387</td>\n",
       "      <td>104</td>\n",
       "      <td>NaN</td>\n",
       "      <td>NaN</td>\n",
       "      <td>56857</td>\n",
       "      <td>NaN</td>\n",
       "      <td>NaN</td>\n",
       "    </tr>\n",
       "    <tr>\n",
       "      <th>top</th>\n",
       "      <td>NaN</td>\n",
       "      <td>Boston Beer Company (Samuel Adams)</td>\n",
       "      <td>NaN</td>\n",
       "      <td>NaN</td>\n",
       "      <td>NaN</td>\n",
       "      <td>NaN</td>\n",
       "      <td>northyorksammy</td>\n",
       "      <td>American IPA</td>\n",
       "      <td>NaN</td>\n",
       "      <td>NaN</td>\n",
       "      <td>90 Minute IPA</td>\n",
       "      <td>NaN</td>\n",
       "      <td>NaN</td>\n",
       "    </tr>\n",
       "    <tr>\n",
       "      <th>freq</th>\n",
       "      <td>NaN</td>\n",
       "      <td>39444</td>\n",
       "      <td>NaN</td>\n",
       "      <td>NaN</td>\n",
       "      <td>NaN</td>\n",
       "      <td>NaN</td>\n",
       "      <td>5817</td>\n",
       "      <td>117586</td>\n",
       "      <td>NaN</td>\n",
       "      <td>NaN</td>\n",
       "      <td>3290</td>\n",
       "      <td>NaN</td>\n",
       "      <td>NaN</td>\n",
       "    </tr>\n",
       "    <tr>\n",
       "      <th>mean</th>\n",
       "      <td>3.130099e+03</td>\n",
       "      <td>NaN</td>\n",
       "      <td>1.224089e+09</td>\n",
       "      <td>3.815581e+00</td>\n",
       "      <td>3.735636e+00</td>\n",
       "      <td>3.841642e+00</td>\n",
       "      <td>NaN</td>\n",
       "      <td>NaN</td>\n",
       "      <td>3.743701e+00</td>\n",
       "      <td>3.792860e+00</td>\n",
       "      <td>NaN</td>\n",
       "      <td>7.042387e+00</td>\n",
       "      <td>2.171279e+04</td>\n",
       "    </tr>\n",
       "    <tr>\n",
       "      <th>std</th>\n",
       "      <td>5.578104e+03</td>\n",
       "      <td>NaN</td>\n",
       "      <td>7.654427e+07</td>\n",
       "      <td>7.206219e-01</td>\n",
       "      <td>6.976167e-01</td>\n",
       "      <td>6.160928e-01</td>\n",
       "      <td>NaN</td>\n",
       "      <td>NaN</td>\n",
       "      <td>6.822184e-01</td>\n",
       "      <td>7.319696e-01</td>\n",
       "      <td>NaN</td>\n",
       "      <td>2.322526e+00</td>\n",
       "      <td>2.181834e+04</td>\n",
       "    </tr>\n",
       "    <tr>\n",
       "      <th>min</th>\n",
       "      <td>1.000000e+00</td>\n",
       "      <td>NaN</td>\n",
       "      <td>8.406720e+08</td>\n",
       "      <td>0.000000e+00</td>\n",
       "      <td>1.000000e+00</td>\n",
       "      <td>0.000000e+00</td>\n",
       "      <td>NaN</td>\n",
       "      <td>NaN</td>\n",
       "      <td>1.000000e+00</td>\n",
       "      <td>1.000000e+00</td>\n",
       "      <td>NaN</td>\n",
       "      <td>1.000000e-02</td>\n",
       "      <td>3.000000e+00</td>\n",
       "    </tr>\n",
       "    <tr>\n",
       "      <th>25%</th>\n",
       "      <td>1.430000e+02</td>\n",
       "      <td>NaN</td>\n",
       "      <td>1.173224e+09</td>\n",
       "      <td>3.500000e+00</td>\n",
       "      <td>3.500000e+00</td>\n",
       "      <td>3.500000e+00</td>\n",
       "      <td>NaN</td>\n",
       "      <td>NaN</td>\n",
       "      <td>3.500000e+00</td>\n",
       "      <td>3.500000e+00</td>\n",
       "      <td>NaN</td>\n",
       "      <td>5.200000e+00</td>\n",
       "      <td>1.717000e+03</td>\n",
       "    </tr>\n",
       "    <tr>\n",
       "      <th>50%</th>\n",
       "      <td>4.290000e+02</td>\n",
       "      <td>NaN</td>\n",
       "      <td>1.239203e+09</td>\n",
       "      <td>4.000000e+00</td>\n",
       "      <td>4.000000e+00</td>\n",
       "      <td>4.000000e+00</td>\n",
       "      <td>NaN</td>\n",
       "      <td>NaN</td>\n",
       "      <td>4.000000e+00</td>\n",
       "      <td>4.000000e+00</td>\n",
       "      <td>NaN</td>\n",
       "      <td>6.500000e+00</td>\n",
       "      <td>1.390600e+04</td>\n",
       "    </tr>\n",
       "    <tr>\n",
       "      <th>75%</th>\n",
       "      <td>2.372000e+03</td>\n",
       "      <td>NaN</td>\n",
       "      <td>1.288568e+09</td>\n",
       "      <td>4.500000e+00</td>\n",
       "      <td>4.000000e+00</td>\n",
       "      <td>4.000000e+00</td>\n",
       "      <td>NaN</td>\n",
       "      <td>NaN</td>\n",
       "      <td>4.000000e+00</td>\n",
       "      <td>4.500000e+00</td>\n",
       "      <td>NaN</td>\n",
       "      <td>8.500000e+00</td>\n",
       "      <td>3.944100e+04</td>\n",
       "    </tr>\n",
       "    <tr>\n",
       "      <th>max</th>\n",
       "      <td>2.800300e+04</td>\n",
       "      <td>NaN</td>\n",
       "      <td>1.326285e+09</td>\n",
       "      <td>5.000000e+00</td>\n",
       "      <td>5.000000e+00</td>\n",
       "      <td>5.000000e+00</td>\n",
       "      <td>NaN</td>\n",
       "      <td>NaN</td>\n",
       "      <td>5.000000e+00</td>\n",
       "      <td>5.000000e+00</td>\n",
       "      <td>NaN</td>\n",
       "      <td>5.770000e+01</td>\n",
       "      <td>7.731700e+04</td>\n",
       "    </tr>\n",
       "  </tbody>\n",
       "</table>\n",
       "</div>"
      ]
     },
     "metadata": {},
     "execution_count": 102
    }
   ],
   "metadata": {}
  },
  {
   "cell_type": "markdown",
   "source": [
    "There are 104 styles of beer. The most common type of beer is 7% of the total.\n",
    "There are 5742 breweries. This could be why there's lots of different styles as the breweries have their specialties."
   ],
   "metadata": {}
  },
  {
   "cell_type": "code",
   "execution_count": 103,
   "source": [
    "beer_name = df['beer_style'].str.strip()\r\n",
    "beer_name.value_counts(normalize=True) * 100"
   ],
   "outputs": [
    {
     "output_type": "execute_result",
     "data": {
      "text/plain": [
       "American IPA                        7.411128\n",
       "American Double / Imperial IPA      5.418898\n",
       "American Pale Ale (APA)             4.000280\n",
       "Russian Imperial Stout              3.411605\n",
       "American Double / Imperial Stout    3.195799\n",
       "                                      ...   \n",
       "Gose                                0.043237\n",
       "Faro                                0.038384\n",
       "Roggenbier                          0.029371\n",
       "Kvass                               0.018719\n",
       "Happoshu                            0.015190\n",
       "Name: beer_style, Length: 104, dtype: float64"
      ]
     },
     "metadata": {},
     "execution_count": 103
    }
   ],
   "metadata": {}
  },
  {
   "cell_type": "markdown",
   "source": [
    "<b> The top 10 beer style </b>\n",
    "\n",
    "The most common beer style in the dataset are American-style beers"
   ],
   "metadata": {}
  },
  {
   "cell_type": "code",
   "execution_count": 104,
   "source": [
    "chart_data = pd.DataFrame(beer_name.value_counts())\r\n",
    "chart_data['beer_style_type'] = chart_data.index\r\n",
    "chart_data\r\n",
    "sns.catplot(y='beer_style_type', x='beer_style', data=chart_data[:10], height=10, kind=\"bar\")"
   ],
   "outputs": [
    {
     "output_type": "execute_result",
     "data": {
      "text/plain": [
       "<seaborn.axisgrid.FacetGrid at 0x7fee49871950>"
      ]
     },
     "metadata": {},
     "execution_count": 104
    },
    {
     "output_type": "display_data",
     "data": {
      "text/plain": [
       "<Figure size 1000x1000 with 1 Axes>"
      ],
      "image/png": "[encoded data removed]"
     },
     "metadata": {
      "needs_background": "light"
     }
    }
   ],
   "metadata": {}
  },
  {
   "cell_type": "markdown",
   "source": [
    "### Section 2: Dealing with null values"
   ],
   "metadata": {}
  },
  {
   "cell_type": "markdown",
   "source": [
    "There were null values for brewery names"
   ],
   "metadata": {}
  },
  {
   "cell_type": "code",
   "execution_count": 105,
   "source": [
    "len(df[df['brewery_name'].isnull()])"
   ],
   "outputs": [
    {
     "output_type": "execute_result",
     "data": {
      "text/plain": [
       "15"
      ]
     },
     "metadata": {},
     "execution_count": 105
    }
   ],
   "metadata": {}
  },
  {
   "cell_type": "markdown",
   "source": [
    "As there's only 15 with null values, we will drop these rows"
   ],
   "metadata": {}
  },
  {
   "cell_type": "code",
   "execution_count": 106,
   "source": [
    "df_clean = df.copy()\r\n",
    "df_clean = df_clean.dropna(subset=['brewery_name'])"
   ],
   "outputs": [],
   "metadata": {}
  },
  {
   "cell_type": "code",
   "execution_count": 107,
   "source": [
    "df_clean.info()"
   ],
   "outputs": [
    {
     "output_type": "stream",
     "name": "stdout",
     "text": [
      "<class 'pandas.core.frame.DataFrame'>\n",
      "Int64Index: 1586599 entries, 0 to 1586613\n",
      "Data columns (total 13 columns):\n",
      "brewery_id            1586599 non-null int64\n",
      "brewery_name          1586599 non-null object\n",
      "review_time           1586599 non-null int64\n",
      "review_overall        1586599 non-null float64\n",
      "review_aroma          1586599 non-null float64\n",
      "review_appearance     1586599 non-null float64\n",
      "review_profilename    1586251 non-null object\n",
      "beer_style            1586599 non-null object\n",
      "review_palate         1586599 non-null float64\n",
      "review_taste          1586599 non-null float64\n",
      "beer_name             1586599 non-null object\n",
      "beer_abv              1518814 non-null float64\n",
      "beer_beerid           1586599 non-null int64\n",
      "dtypes: float64(6), int64(3), object(4)\n",
      "memory usage: 169.5+ MB\n"
     ]
    }
   ],
   "metadata": {}
  },
  {
   "cell_type": "code",
   "execution_count": 108,
   "source": [
    "#Reset the index\r\n",
    "df_clean.reset_index(drop=True, inplace=True)"
   ],
   "outputs": [],
   "metadata": {}
  },
  {
   "cell_type": "code",
   "execution_count": 109,
   "source": [
    "df_clean.describe(include=\"all\")"
   ],
   "outputs": [
    {
     "output_type": "execute_result",
     "data": {
      "text/plain": [
       "          brewery_id                        brewery_name   review_time  \\\n",
       "count   1.586599e+06                             1586599  1.586599e+06   \n",
       "unique           NaN                                5742           NaN   \n",
       "top              NaN  Boston Beer Company (Samuel Adams)           NaN   \n",
       "freq             NaN                               39444           NaN   \n",
       "mean    3.130122e+03                                 NaN  1.224089e+09   \n",
       "std     5.578125e+03                                 NaN  7.654410e+07   \n",
       "min     1.000000e+00                                 NaN  8.406720e+08   \n",
       "25%     1.430000e+02                                 NaN  1.173224e+09   \n",
       "50%     4.290000e+02                                 NaN  1.239202e+09   \n",
       "75%     2.372000e+03                                 NaN  1.288568e+09   \n",
       "max     2.800300e+04                                 NaN  1.326285e+09   \n",
       "\n",
       "        review_overall  review_aroma  review_appearance review_profilename  \\\n",
       "count     1.586599e+06  1.586599e+06       1.586599e+06            1586251   \n",
       "unique             NaN           NaN                NaN              33387   \n",
       "top                NaN           NaN                NaN     northyorksammy   \n",
       "freq               NaN           NaN                NaN               5817   \n",
       "mean      3.815584e+00  3.735638e+00       3.841647e+00                NaN   \n",
       "std       7.206191e-01  6.976142e-01       6.160899e-01                NaN   \n",
       "min       0.000000e+00  1.000000e+00       0.000000e+00                NaN   \n",
       "25%       3.500000e+00  3.500000e+00       3.500000e+00                NaN   \n",
       "50%       4.000000e+00  4.000000e+00       4.000000e+00                NaN   \n",
       "75%       4.500000e+00  4.000000e+00       4.000000e+00                NaN   \n",
       "max       5.000000e+00  5.000000e+00       5.000000e+00                NaN   \n",
       "\n",
       "          beer_style  review_palate  review_taste      beer_name  \\\n",
       "count        1586599   1.586599e+06  1.586599e+06        1586599   \n",
       "unique           104            NaN           NaN          56848   \n",
       "top     American IPA            NaN           NaN  90 Minute IPA   \n",
       "freq          117584            NaN           NaN           3290   \n",
       "mean             NaN   3.743705e+00  3.792864e+00            NaN   \n",
       "std              NaN   6.822131e-01  7.319658e-01            NaN   \n",
       "min              NaN   1.000000e+00  1.000000e+00            NaN   \n",
       "25%              NaN   3.500000e+00  3.500000e+00            NaN   \n",
       "50%              NaN   4.000000e+00  4.000000e+00            NaN   \n",
       "75%              NaN   4.000000e+00  4.500000e+00            NaN   \n",
       "max              NaN   5.000000e+00  5.000000e+00            NaN   \n",
       "\n",
       "            beer_abv   beer_beerid  \n",
       "count   1.518814e+06  1.586599e+06  \n",
       "unique           NaN           NaN  \n",
       "top              NaN           NaN  \n",
       "freq             NaN           NaN  \n",
       "mean    7.042396e+00  2.171249e+04  \n",
       "std     2.322532e+00  2.181807e+04  \n",
       "min     1.000000e-02  3.000000e+00  \n",
       "25%     5.200000e+00  1.717000e+03  \n",
       "50%     6.500000e+00  1.390600e+04  \n",
       "75%     8.500000e+00  3.944100e+04  \n",
       "max     5.770000e+01  7.731700e+04  "
      ],
      "text/html": [
       "<div>\n",
       "<style scoped>\n",
       "    .dataframe tbody tr th:only-of-type {\n",
       "        vertical-align: middle;\n",
       "    }\n",
       "\n",
       "    .dataframe tbody tr th {\n",
       "        vertical-align: top;\n",
       "    }\n",
       "\n",
       "    .dataframe thead th {\n",
       "        text-align: right;\n",
       "    }\n",
       "</style>\n",
       "<table border=\"1\" class=\"dataframe\">\n",
       "  <thead>\n",
       "    <tr style=\"text-align: right;\">\n",
       "      <th></th>\n",
       "      <th>brewery_id</th>\n",
       "      <th>brewery_name</th>\n",
       "      <th>review_time</th>\n",
       "      <th>review_overall</th>\n",
       "      <th>review_aroma</th>\n",
       "      <th>review_appearance</th>\n",
       "      <th>review_profilename</th>\n",
       "      <th>beer_style</th>\n",
       "      <th>review_palate</th>\n",
       "      <th>review_taste</th>\n",
       "      <th>beer_name</th>\n",
       "      <th>beer_abv</th>\n",
       "      <th>beer_beerid</th>\n",
       "    </tr>\n",
       "  </thead>\n",
       "  <tbody>\n",
       "    <tr>\n",
       "      <th>count</th>\n",
       "      <td>1.586599e+06</td>\n",
       "      <td>1586599</td>\n",
       "      <td>1.586599e+06</td>\n",
       "      <td>1.586599e+06</td>\n",
       "      <td>1.586599e+06</td>\n",
       "      <td>1.586599e+06</td>\n",
       "      <td>1586251</td>\n",
       "      <td>1586599</td>\n",
       "      <td>1.586599e+06</td>\n",
       "      <td>1.586599e+06</td>\n",
       "      <td>1586599</td>\n",
       "      <td>1.518814e+06</td>\n",
       "      <td>1.586599e+06</td>\n",
       "    </tr>\n",
       "    <tr>\n",
       "      <th>unique</th>\n",
       "      <td>NaN</td>\n",
       "      <td>5742</td>\n",
       "      <td>NaN</td>\n",
       "      <td>NaN</td>\n",
       "      <td>NaN</td>\n",
       "      <td>NaN</td>\n",
       "      <td>33387</td>\n",
       "      <td>104</td>\n",
       "      <td>NaN</td>\n",
       "      <td>NaN</td>\n",
       "      <td>56848</td>\n",
       "      <td>NaN</td>\n",
       "      <td>NaN</td>\n",
       "    </tr>\n",
       "    <tr>\n",
       "      <th>top</th>\n",
       "      <td>NaN</td>\n",
       "      <td>Boston Beer Company (Samuel Adams)</td>\n",
       "      <td>NaN</td>\n",
       "      <td>NaN</td>\n",
       "      <td>NaN</td>\n",
       "      <td>NaN</td>\n",
       "      <td>northyorksammy</td>\n",
       "      <td>American IPA</td>\n",
       "      <td>NaN</td>\n",
       "      <td>NaN</td>\n",
       "      <td>90 Minute IPA</td>\n",
       "      <td>NaN</td>\n",
       "      <td>NaN</td>\n",
       "    </tr>\n",
       "    <tr>\n",
       "      <th>freq</th>\n",
       "      <td>NaN</td>\n",
       "      <td>39444</td>\n",
       "      <td>NaN</td>\n",
       "      <td>NaN</td>\n",
       "      <td>NaN</td>\n",
       "      <td>NaN</td>\n",
       "      <td>5817</td>\n",
       "      <td>117584</td>\n",
       "      <td>NaN</td>\n",
       "      <td>NaN</td>\n",
       "      <td>3290</td>\n",
       "      <td>NaN</td>\n",
       "      <td>NaN</td>\n",
       "    </tr>\n",
       "    <tr>\n",
       "      <th>mean</th>\n",
       "      <td>3.130122e+03</td>\n",
       "      <td>NaN</td>\n",
       "      <td>1.224089e+09</td>\n",
       "      <td>3.815584e+00</td>\n",
       "      <td>3.735638e+00</td>\n",
       "      <td>3.841647e+00</td>\n",
       "      <td>NaN</td>\n",
       "      <td>NaN</td>\n",
       "      <td>3.743705e+00</td>\n",
       "      <td>3.792864e+00</td>\n",
       "      <td>NaN</td>\n",
       "      <td>7.042396e+00</td>\n",
       "      <td>2.171249e+04</td>\n",
       "    </tr>\n",
       "    <tr>\n",
       "      <th>std</th>\n",
       "      <td>5.578125e+03</td>\n",
       "      <td>NaN</td>\n",
       "      <td>7.654410e+07</td>\n",
       "      <td>7.206191e-01</td>\n",
       "      <td>6.976142e-01</td>\n",
       "      <td>6.160899e-01</td>\n",
       "      <td>NaN</td>\n",
       "      <td>NaN</td>\n",
       "      <td>6.822131e-01</td>\n",
       "      <td>7.319658e-01</td>\n",
       "      <td>NaN</td>\n",
       "      <td>2.322532e+00</td>\n",
       "      <td>2.181807e+04</td>\n",
       "    </tr>\n",
       "    <tr>\n",
       "      <th>min</th>\n",
       "      <td>1.000000e+00</td>\n",
       "      <td>NaN</td>\n",
       "      <td>8.406720e+08</td>\n",
       "      <td>0.000000e+00</td>\n",
       "      <td>1.000000e+00</td>\n",
       "      <td>0.000000e+00</td>\n",
       "      <td>NaN</td>\n",
       "      <td>NaN</td>\n",
       "      <td>1.000000e+00</td>\n",
       "      <td>1.000000e+00</td>\n",
       "      <td>NaN</td>\n",
       "      <td>1.000000e-02</td>\n",
       "      <td>3.000000e+00</td>\n",
       "    </tr>\n",
       "    <tr>\n",
       "      <th>25%</th>\n",
       "      <td>1.430000e+02</td>\n",
       "      <td>NaN</td>\n",
       "      <td>1.173224e+09</td>\n",
       "      <td>3.500000e+00</td>\n",
       "      <td>3.500000e+00</td>\n",
       "      <td>3.500000e+00</td>\n",
       "      <td>NaN</td>\n",
       "      <td>NaN</td>\n",
       "      <td>3.500000e+00</td>\n",
       "      <td>3.500000e+00</td>\n",
       "      <td>NaN</td>\n",
       "      <td>5.200000e+00</td>\n",
       "      <td>1.717000e+03</td>\n",
       "    </tr>\n",
       "    <tr>\n",
       "      <th>50%</th>\n",
       "      <td>4.290000e+02</td>\n",
       "      <td>NaN</td>\n",
       "      <td>1.239202e+09</td>\n",
       "      <td>4.000000e+00</td>\n",
       "      <td>4.000000e+00</td>\n",
       "      <td>4.000000e+00</td>\n",
       "      <td>NaN</td>\n",
       "      <td>NaN</td>\n",
       "      <td>4.000000e+00</td>\n",
       "      <td>4.000000e+00</td>\n",
       "      <td>NaN</td>\n",
       "      <td>6.500000e+00</td>\n",
       "      <td>1.390600e+04</td>\n",
       "    </tr>\n",
       "    <tr>\n",
       "      <th>75%</th>\n",
       "      <td>2.372000e+03</td>\n",
       "      <td>NaN</td>\n",
       "      <td>1.288568e+09</td>\n",
       "      <td>4.500000e+00</td>\n",
       "      <td>4.000000e+00</td>\n",
       "      <td>4.000000e+00</td>\n",
       "      <td>NaN</td>\n",
       "      <td>NaN</td>\n",
       "      <td>4.000000e+00</td>\n",
       "      <td>4.500000e+00</td>\n",
       "      <td>NaN</td>\n",
       "      <td>8.500000e+00</td>\n",
       "      <td>3.944100e+04</td>\n",
       "    </tr>\n",
       "    <tr>\n",
       "      <th>max</th>\n",
       "      <td>2.800300e+04</td>\n",
       "      <td>NaN</td>\n",
       "      <td>1.326285e+09</td>\n",
       "      <td>5.000000e+00</td>\n",
       "      <td>5.000000e+00</td>\n",
       "      <td>5.000000e+00</td>\n",
       "      <td>NaN</td>\n",
       "      <td>NaN</td>\n",
       "      <td>5.000000e+00</td>\n",
       "      <td>5.000000e+00</td>\n",
       "      <td>NaN</td>\n",
       "      <td>5.770000e+01</td>\n",
       "      <td>7.731700e+04</td>\n",
       "    </tr>\n",
       "  </tbody>\n",
       "</table>\n",
       "</div>"
      ]
     },
     "metadata": {},
     "execution_count": 109
    }
   ],
   "metadata": {}
  },
  {
   "cell_type": "markdown",
   "source": [
    "There were ~70000 null alcohol level values.\n",
    "We will estimate these null values by using the average alcohol level for the beer style"
   ],
   "metadata": {}
  },
  {
   "cell_type": "code",
   "execution_count": 110,
   "source": [
    "#Replace na alcohol levels by the average alcohol level for the beer style\r\n",
    "df_clean[\"beer_abv\"]=df_clean.groupby(\"beer_style\")[\"beer_abv\"].transform(lambda x: x.fillna(x.mean()))"
   ],
   "outputs": [],
   "metadata": {}
  },
  {
   "cell_type": "code",
   "execution_count": 111,
   "source": [
    "df_clean.info()"
   ],
   "outputs": [
    {
     "output_type": "stream",
     "name": "stdout",
     "text": [
      "<class 'pandas.core.frame.DataFrame'>\n",
      "RangeIndex: 1586599 entries, 0 to 1586598\n",
      "Data columns (total 13 columns):\n",
      "brewery_id            1586599 non-null int64\n",
      "brewery_name          1586599 non-null object\n",
      "review_time           1586599 non-null int64\n",
      "review_overall        1586599 non-null float64\n",
      "review_aroma          1586599 non-null float64\n",
      "review_appearance     1586599 non-null float64\n",
      "review_profilename    1586251 non-null object\n",
      "beer_style            1586599 non-null object\n",
      "review_palate         1586599 non-null float64\n",
      "review_taste          1586599 non-null float64\n",
      "beer_name             1586599 non-null object\n",
      "beer_abv              1586599 non-null float64\n",
      "beer_beerid           1586599 non-null int64\n",
      "dtypes: float64(6), int64(3), object(4)\n",
      "memory usage: 157.4+ MB\n"
     ]
    }
   ],
   "metadata": {}
  },
  {
   "cell_type": "markdown",
   "source": [
    "Now there is no more null values for the API parameter fields.\n",
    "The overall alcohol level stats remain unchanged"
   ],
   "metadata": {}
  },
  {
   "cell_type": "code",
   "execution_count": 112,
   "source": [
    "#overall stats unchanged\r\n",
    "df_clean.describe(include=\"all\")"
   ],
   "outputs": [
    {
     "output_type": "execute_result",
     "data": {
      "text/plain": [
       "          brewery_id                        brewery_name   review_time  \\\n",
       "count   1.586599e+06                             1586599  1.586599e+06   \n",
       "unique           NaN                                5742           NaN   \n",
       "top              NaN  Boston Beer Company (Samuel Adams)           NaN   \n",
       "freq             NaN                               39444           NaN   \n",
       "mean    3.130122e+03                                 NaN  1.224089e+09   \n",
       "std     5.578125e+03                                 NaN  7.654410e+07   \n",
       "min     1.000000e+00                                 NaN  8.406720e+08   \n",
       "25%     1.430000e+02                                 NaN  1.173224e+09   \n",
       "50%     4.290000e+02                                 NaN  1.239202e+09   \n",
       "75%     2.372000e+03                                 NaN  1.288568e+09   \n",
       "max     2.800300e+04                                 NaN  1.326285e+09   \n",
       "\n",
       "        review_overall  review_aroma  review_appearance review_profilename  \\\n",
       "count     1.586599e+06  1.586599e+06       1.586599e+06            1586251   \n",
       "unique             NaN           NaN                NaN              33387   \n",
       "top                NaN           NaN                NaN     northyorksammy   \n",
       "freq               NaN           NaN                NaN               5817   \n",
       "mean      3.815584e+00  3.735638e+00       3.841647e+00                NaN   \n",
       "std       7.206191e-01  6.976142e-01       6.160899e-01                NaN   \n",
       "min       0.000000e+00  1.000000e+00       0.000000e+00                NaN   \n",
       "25%       3.500000e+00  3.500000e+00       3.500000e+00                NaN   \n",
       "50%       4.000000e+00  4.000000e+00       4.000000e+00                NaN   \n",
       "75%       4.500000e+00  4.000000e+00       4.000000e+00                NaN   \n",
       "max       5.000000e+00  5.000000e+00       5.000000e+00                NaN   \n",
       "\n",
       "          beer_style  review_palate  review_taste      beer_name  \\\n",
       "count        1586599   1.586599e+06  1.586599e+06        1586599   \n",
       "unique           104            NaN           NaN          56848   \n",
       "top     American IPA            NaN           NaN  90 Minute IPA   \n",
       "freq          117584            NaN           NaN           3290   \n",
       "mean             NaN   3.743705e+00  3.792864e+00            NaN   \n",
       "std              NaN   6.822131e-01  7.319658e-01            NaN   \n",
       "min              NaN   1.000000e+00  1.000000e+00            NaN   \n",
       "25%              NaN   3.500000e+00  3.500000e+00            NaN   \n",
       "50%              NaN   4.000000e+00  4.000000e+00            NaN   \n",
       "75%              NaN   4.000000e+00  4.500000e+00            NaN   \n",
       "max              NaN   5.000000e+00  5.000000e+00            NaN   \n",
       "\n",
       "            beer_abv   beer_beerid  \n",
       "count   1.586599e+06  1.586599e+06  \n",
       "unique           NaN           NaN  \n",
       "top              NaN           NaN  \n",
       "freq             NaN           NaN  \n",
       "mean    7.001863e+00  2.171249e+04  \n",
       "std     2.297941e+00  2.181807e+04  \n",
       "min     1.000000e-02  3.000000e+00  \n",
       "25%     5.200000e+00  1.717000e+03  \n",
       "50%     6.500000e+00  1.390600e+04  \n",
       "75%     8.500000e+00  3.944100e+04  \n",
       "max     5.770000e+01  7.731700e+04  "
      ],
      "text/html": [
       "<div>\n",
       "<style scoped>\n",
       "    .dataframe tbody tr th:only-of-type {\n",
       "        vertical-align: middle;\n",
       "    }\n",
       "\n",
       "    .dataframe tbody tr th {\n",
       "        vertical-align: top;\n",
       "    }\n",
       "\n",
       "    .dataframe thead th {\n",
       "        text-align: right;\n",
       "    }\n",
       "</style>\n",
       "<table border=\"1\" class=\"dataframe\">\n",
       "  <thead>\n",
       "    <tr style=\"text-align: right;\">\n",
       "      <th></th>\n",
       "      <th>brewery_id</th>\n",
       "      <th>brewery_name</th>\n",
       "      <th>review_time</th>\n",
       "      <th>review_overall</th>\n",
       "      <th>review_aroma</th>\n",
       "      <th>review_appearance</th>\n",
       "      <th>review_profilename</th>\n",
       "      <th>beer_style</th>\n",
       "      <th>review_palate</th>\n",
       "      <th>review_taste</th>\n",
       "      <th>beer_name</th>\n",
       "      <th>beer_abv</th>\n",
       "      <th>beer_beerid</th>\n",
       "    </tr>\n",
       "  </thead>\n",
       "  <tbody>\n",
       "    <tr>\n",
       "      <th>count</th>\n",
       "      <td>1.586599e+06</td>\n",
       "      <td>1586599</td>\n",
       "      <td>1.586599e+06</td>\n",
       "      <td>1.586599e+06</td>\n",
       "      <td>1.586599e+06</td>\n",
       "      <td>1.586599e+06</td>\n",
       "      <td>1586251</td>\n",
       "      <td>1586599</td>\n",
       "      <td>1.586599e+06</td>\n",
       "      <td>1.586599e+06</td>\n",
       "      <td>1586599</td>\n",
       "      <td>1.586599e+06</td>\n",
       "      <td>1.586599e+06</td>\n",
       "    </tr>\n",
       "    <tr>\n",
       "      <th>unique</th>\n",
       "      <td>NaN</td>\n",
       "      <td>5742</td>\n",
       "      <td>NaN</td>\n",
       "      <td>NaN</td>\n",
       "      <td>NaN</td>\n",
       "      <td>NaN</td>\n",
       "      <td>33387</td>\n",
       "      <td>104</td>\n",
       "      <td>NaN</td>\n",
       "      <td>NaN</td>\n",
       "      <td>56848</td>\n",
       "      <td>NaN</td>\n",
       "      <td>NaN</td>\n",
       "    </tr>\n",
       "    <tr>\n",
       "      <th>top</th>\n",
       "      <td>NaN</td>\n",
       "      <td>Boston Beer Company (Samuel Adams)</td>\n",
       "      <td>NaN</td>\n",
       "      <td>NaN</td>\n",
       "      <td>NaN</td>\n",
       "      <td>NaN</td>\n",
       "      <td>northyorksammy</td>\n",
       "      <td>American IPA</td>\n",
       "      <td>NaN</td>\n",
       "      <td>NaN</td>\n",
       "      <td>90 Minute IPA</td>\n",
       "      <td>NaN</td>\n",
       "      <td>NaN</td>\n",
       "    </tr>\n",
       "    <tr>\n",
       "      <th>freq</th>\n",
       "      <td>NaN</td>\n",
       "      <td>39444</td>\n",
       "      <td>NaN</td>\n",
       "      <td>NaN</td>\n",
       "      <td>NaN</td>\n",
       "      <td>NaN</td>\n",
       "      <td>5817</td>\n",
       "      <td>117584</td>\n",
       "      <td>NaN</td>\n",
       "      <td>NaN</td>\n",
       "      <td>3290</td>\n",
       "      <td>NaN</td>\n",
       "      <td>NaN</td>\n",
       "    </tr>\n",
       "    <tr>\n",
       "      <th>mean</th>\n",
       "      <td>3.130122e+03</td>\n",
       "      <td>NaN</td>\n",
       "      <td>1.224089e+09</td>\n",
       "      <td>3.815584e+00</td>\n",
       "      <td>3.735638e+00</td>\n",
       "      <td>3.841647e+00</td>\n",
       "      <td>NaN</td>\n",
       "      <td>NaN</td>\n",
       "      <td>3.743705e+00</td>\n",
       "      <td>3.792864e+00</td>\n",
       "      <td>NaN</td>\n",
       "      <td>7.001863e+00</td>\n",
       "      <td>2.171249e+04</td>\n",
       "    </tr>\n",
       "    <tr>\n",
       "      <th>std</th>\n",
       "      <td>5.578125e+03</td>\n",
       "      <td>NaN</td>\n",
       "      <td>7.654410e+07</td>\n",
       "      <td>7.206191e-01</td>\n",
       "      <td>6.976142e-01</td>\n",
       "      <td>6.160899e-01</td>\n",
       "      <td>NaN</td>\n",
       "      <td>NaN</td>\n",
       "      <td>6.822131e-01</td>\n",
       "      <td>7.319658e-01</td>\n",
       "      <td>NaN</td>\n",
       "      <td>2.297941e+00</td>\n",
       "      <td>2.181807e+04</td>\n",
       "    </tr>\n",
       "    <tr>\n",
       "      <th>min</th>\n",
       "      <td>1.000000e+00</td>\n",
       "      <td>NaN</td>\n",
       "      <td>8.406720e+08</td>\n",
       "      <td>0.000000e+00</td>\n",
       "      <td>1.000000e+00</td>\n",
       "      <td>0.000000e+00</td>\n",
       "      <td>NaN</td>\n",
       "      <td>NaN</td>\n",
       "      <td>1.000000e+00</td>\n",
       "      <td>1.000000e+00</td>\n",
       "      <td>NaN</td>\n",
       "      <td>1.000000e-02</td>\n",
       "      <td>3.000000e+00</td>\n",
       "    </tr>\n",
       "    <tr>\n",
       "      <th>25%</th>\n",
       "      <td>1.430000e+02</td>\n",
       "      <td>NaN</td>\n",
       "      <td>1.173224e+09</td>\n",
       "      <td>3.500000e+00</td>\n",
       "      <td>3.500000e+00</td>\n",
       "      <td>3.500000e+00</td>\n",
       "      <td>NaN</td>\n",
       "      <td>NaN</td>\n",
       "      <td>3.500000e+00</td>\n",
       "      <td>3.500000e+00</td>\n",
       "      <td>NaN</td>\n",
       "      <td>5.200000e+00</td>\n",
       "      <td>1.717000e+03</td>\n",
       "    </tr>\n",
       "    <tr>\n",
       "      <th>50%</th>\n",
       "      <td>4.290000e+02</td>\n",
       "      <td>NaN</td>\n",
       "      <td>1.239202e+09</td>\n",
       "      <td>4.000000e+00</td>\n",
       "      <td>4.000000e+00</td>\n",
       "      <td>4.000000e+00</td>\n",
       "      <td>NaN</td>\n",
       "      <td>NaN</td>\n",
       "      <td>4.000000e+00</td>\n",
       "      <td>4.000000e+00</td>\n",
       "      <td>NaN</td>\n",
       "      <td>6.500000e+00</td>\n",
       "      <td>1.390600e+04</td>\n",
       "    </tr>\n",
       "    <tr>\n",
       "      <th>75%</th>\n",
       "      <td>2.372000e+03</td>\n",
       "      <td>NaN</td>\n",
       "      <td>1.288568e+09</td>\n",
       "      <td>4.500000e+00</td>\n",
       "      <td>4.000000e+00</td>\n",
       "      <td>4.000000e+00</td>\n",
       "      <td>NaN</td>\n",
       "      <td>NaN</td>\n",
       "      <td>4.000000e+00</td>\n",
       "      <td>4.500000e+00</td>\n",
       "      <td>NaN</td>\n",
       "      <td>8.500000e+00</td>\n",
       "      <td>3.944100e+04</td>\n",
       "    </tr>\n",
       "    <tr>\n",
       "      <th>max</th>\n",
       "      <td>2.800300e+04</td>\n",
       "      <td>NaN</td>\n",
       "      <td>1.326285e+09</td>\n",
       "      <td>5.000000e+00</td>\n",
       "      <td>5.000000e+00</td>\n",
       "      <td>5.000000e+00</td>\n",
       "      <td>NaN</td>\n",
       "      <td>NaN</td>\n",
       "      <td>5.000000e+00</td>\n",
       "      <td>5.000000e+00</td>\n",
       "      <td>NaN</td>\n",
       "      <td>5.770000e+01</td>\n",
       "      <td>7.731700e+04</td>\n",
       "    </tr>\n",
       "  </tbody>\n",
       "</table>\n",
       "</div>"
      ]
     },
     "metadata": {},
     "execution_count": 112
    }
   ],
   "metadata": {}
  },
  {
   "cell_type": "markdown",
   "source": [
    "### Section 3. Create the target variables and feature engineering the brewery ids"
   ],
   "metadata": {}
  },
  {
   "cell_type": "markdown",
   "source": [
    "The target variable - beer style- will be converted to an array of integers"
   ],
   "metadata": {}
  },
  {
   "cell_type": "code",
   "execution_count": 113,
   "source": [
    "#pop target into another y list\r\n",
    "target = df_clean['beer_style']"
   ],
   "outputs": [],
   "metadata": {}
  },
  {
   "cell_type": "code",
   "execution_count": 114,
   "source": [
    "target.head()"
   ],
   "outputs": [
    {
     "output_type": "execute_result",
     "data": {
      "text/plain": [
       "0                        Hefeweizen\n",
       "1                English Strong Ale\n",
       "2            Foreign / Export Stout\n",
       "3                   German Pilsener\n",
       "4    American Double / Imperial IPA\n",
       "Name: beer_style, dtype: object"
      ]
     },
     "metadata": {},
     "execution_count": 114
    }
   ],
   "metadata": {}
  },
  {
   "cell_type": "markdown",
   "source": [
    "We fit target to a label encoder"
   ],
   "metadata": {}
  },
  {
   "cell_type": "code",
   "execution_count": 115,
   "source": [
    "le = LabelEncoder()"
   ],
   "outputs": [],
   "metadata": {}
  },
  {
   "cell_type": "code",
   "execution_count": 116,
   "source": [
    "fitted_target = le.fit_transform(target)"
   ],
   "outputs": [],
   "metadata": {}
  },
  {
   "cell_type": "code",
   "execution_count": 117,
   "source": [
    "fitted_target"
   ],
   "outputs": [
    {
     "output_type": "execute_result",
     "data": {
      "text/plain": [
       "array([65, 51, 59, ..., 85, 85, 85])"
      ]
     },
     "metadata": {},
     "execution_count": 117
    }
   ],
   "metadata": {}
  },
  {
   "cell_type": "code",
   "execution_count": 118,
   "source": [
    "#Dump the label encoder into the models folder\r\n",
    "dump(le,  '../models/le.joblib')"
   ],
   "outputs": [
    {
     "output_type": "execute_result",
     "data": {
      "text/plain": [
       "['../models/le.joblib']"
      ]
     },
     "metadata": {},
     "execution_count": 118
    }
   ],
   "metadata": {}
  },
  {
   "cell_type": "markdown",
   "source": [
    "<b> Feature engineering the brewery ids </b>\n",
    "\n",
    "There are 5742 breweries in the data set.\n",
    "\n",
    "We were unable to one-hot encode the brewery id due to its high cardinality.\n",
    "\n",
    "We will now look at its distribution to see if we can group them into smaller groups."
   ],
   "metadata": {}
  },
  {
   "cell_type": "code",
   "execution_count": 119,
   "source": [
    "brewery_id = df_clean['brewery_id']\r\n",
    "chart_data_2 = pd.DataFrame(brewery_id.value_counts())\r\n",
    "chart_data_2.describe()"
   ],
   "outputs": [
    {
     "output_type": "execute_result",
     "data": {
      "text/plain": [
       "         brewery_id\n",
       "count   5838.000000\n",
       "mean     271.770983\n",
       "std     1488.121955\n",
       "min        1.000000\n",
       "25%        3.000000\n",
       "50%       14.000000\n",
       "75%       71.000000\n",
       "max    39444.000000"
      ],
      "text/html": [
       "<div>\n",
       "<style scoped>\n",
       "    .dataframe tbody tr th:only-of-type {\n",
       "        vertical-align: middle;\n",
       "    }\n",
       "\n",
       "    .dataframe tbody tr th {\n",
       "        vertical-align: top;\n",
       "    }\n",
       "\n",
       "    .dataframe thead th {\n",
       "        text-align: right;\n",
       "    }\n",
       "</style>\n",
       "<table border=\"1\" class=\"dataframe\">\n",
       "  <thead>\n",
       "    <tr style=\"text-align: right;\">\n",
       "      <th></th>\n",
       "      <th>brewery_id</th>\n",
       "    </tr>\n",
       "  </thead>\n",
       "  <tbody>\n",
       "    <tr>\n",
       "      <th>count</th>\n",
       "      <td>5838.000000</td>\n",
       "    </tr>\n",
       "    <tr>\n",
       "      <th>mean</th>\n",
       "      <td>271.770983</td>\n",
       "    </tr>\n",
       "    <tr>\n",
       "      <th>std</th>\n",
       "      <td>1488.121955</td>\n",
       "    </tr>\n",
       "    <tr>\n",
       "      <th>min</th>\n",
       "      <td>1.000000</td>\n",
       "    </tr>\n",
       "    <tr>\n",
       "      <th>25%</th>\n",
       "      <td>3.000000</td>\n",
       "    </tr>\n",
       "    <tr>\n",
       "      <th>50%</th>\n",
       "      <td>14.000000</td>\n",
       "    </tr>\n",
       "    <tr>\n",
       "      <th>75%</th>\n",
       "      <td>71.000000</td>\n",
       "    </tr>\n",
       "    <tr>\n",
       "      <th>max</th>\n",
       "      <td>39444.000000</td>\n",
       "    </tr>\n",
       "  </tbody>\n",
       "</table>\n",
       "</div>"
      ]
     },
     "metadata": {},
     "execution_count": 119
    }
   ],
   "metadata": {}
  },
  {
   "cell_type": "markdown",
   "source": [
    "A lot of breweries have a small amount of reviews. This could lead to overfitting if they try to model the reviews for these breweries\n",
    "\n",
    "There 5838 brewery ids vs 5742 brewery names, meaning there are some breweries with the same name (but potentially different location. Location is not in the dataset."
   ],
   "metadata": {}
  },
  {
   "cell_type": "code",
   "execution_count": 122,
   "source": [
    "sns.distplot(chart_data_2)"
   ],
   "outputs": [
    {
     "output_type": "execute_result",
     "data": {
      "text/plain": [
       "<matplotlib.axes._subplots.AxesSubplot at 0x7fee00449990>"
      ]
     },
     "metadata": {},
     "execution_count": 122
    },
    {
     "output_type": "display_data",
     "data": {
      "text/plain": [
       "<Figure size 500x500 with 1 Axes>"
      ],
      "image/png": "[encoded data removed]"
     },
     "metadata": {
      "needs_background": "light"
     }
    }
   ],
   "metadata": {}
  },
  {
   "cell_type": "markdown",
   "source": [
    "Only 1209 out of the 5838 brewery ids have more than 100 reviews"
   ],
   "metadata": {}
  },
  {
   "cell_type": "code",
   "execution_count": 27,
   "source": [
    "len(chart_data_2[chart_data_2['brewery_id']>100])"
   ],
   "outputs": [
    {
     "output_type": "execute_result",
     "data": {
      "text/plain": [
       "1209"
      ]
     },
     "metadata": {},
     "execution_count": 27
    }
   ],
   "metadata": {}
  },
  {
   "cell_type": "markdown",
   "source": [
    "Even if group brewery ids with less than 100 are grouped as 'Other', still too much classes for one-hot encoding.\n",
    "\n",
    "Will have to convert the brewery id into a numerical feature. We will use target encoding.\n",
    "\n",
    "But first, we will create a new brewery id feature"
   ],
   "metadata": {}
  },
  {
   "cell_type": "code",
   "execution_count": 123,
   "source": [
    "#Create a brewery id feature where if less than 100 reviews, the id is '0'"
   ],
   "outputs": [],
   "metadata": {}
  },
  {
   "cell_type": "code",
   "execution_count": 124,
   "source": [
    "brewery_id_new = pd.DataFrame(df_clean['brewery_id'])\r\n",
    "\r\n",
    "brewery_id_new['brewery_id_count']=brewery_id_new.groupby('brewery_id')['brewery_id'].transform('count')\r\n",
    "brewery_id_new['id_new'] = brewery_id_new['brewery_id_count'].transform(lambda x: x if x > 100 else 0)\r\n",
    "brewery_id_new['id_new'] = brewery_id_new.loc[brewery_id_new['id_new'] > 100, 'brewery_id'].fillna(0)\r\n",
    "\r\n",
    "\r\n",
    "brewery_id_new.fillna(0, inplace=True)\r\n",
    "brewery_id_new"
   ],
   "outputs": [
    {
     "output_type": "execute_result",
     "data": {
      "text/plain": [
       "         brewery_id  brewery_id_count   id_new\n",
       "0             10325                 4      0.0\n",
       "1             10325                 4      0.0\n",
       "2             10325                 4      0.0\n",
       "3             10325                 4      0.0\n",
       "4              1075               889   1075.0\n",
       "...             ...               ...      ...\n",
       "1586594       14359               279  14359.0\n",
       "1586595       14359               279  14359.0\n",
       "1586596       14359               279  14359.0\n",
       "1586597       14359               279  14359.0\n",
       "1586598       14359               279  14359.0\n",
       "\n",
       "[1586599 rows x 3 columns]"
      ],
      "text/html": [
       "<div>\n",
       "<style scoped>\n",
       "    .dataframe tbody tr th:only-of-type {\n",
       "        vertical-align: middle;\n",
       "    }\n",
       "\n",
       "    .dataframe tbody tr th {\n",
       "        vertical-align: top;\n",
       "    }\n",
       "\n",
       "    .dataframe thead th {\n",
       "        text-align: right;\n",
       "    }\n",
       "</style>\n",
       "<table border=\"1\" class=\"dataframe\">\n",
       "  <thead>\n",
       "    <tr style=\"text-align: right;\">\n",
       "      <th></th>\n",
       "      <th>brewery_id</th>\n",
       "      <th>brewery_id_count</th>\n",
       "      <th>id_new</th>\n",
       "    </tr>\n",
       "  </thead>\n",
       "  <tbody>\n",
       "    <tr>\n",
       "      <th>0</th>\n",
       "      <td>10325</td>\n",
       "      <td>4</td>\n",
       "      <td>0.0</td>\n",
       "    </tr>\n",
       "    <tr>\n",
       "      <th>1</th>\n",
       "      <td>10325</td>\n",
       "      <td>4</td>\n",
       "      <td>0.0</td>\n",
       "    </tr>\n",
       "    <tr>\n",
       "      <th>2</th>\n",
       "      <td>10325</td>\n",
       "      <td>4</td>\n",
       "      <td>0.0</td>\n",
       "    </tr>\n",
       "    <tr>\n",
       "      <th>3</th>\n",
       "      <td>10325</td>\n",
       "      <td>4</td>\n",
       "      <td>0.0</td>\n",
       "    </tr>\n",
       "    <tr>\n",
       "      <th>4</th>\n",
       "      <td>1075</td>\n",
       "      <td>889</td>\n",
       "      <td>1075.0</td>\n",
       "    </tr>\n",
       "    <tr>\n",
       "      <th>...</th>\n",
       "      <td>...</td>\n",
       "      <td>...</td>\n",
       "      <td>...</td>\n",
       "    </tr>\n",
       "    <tr>\n",
       "      <th>1586594</th>\n",
       "      <td>14359</td>\n",
       "      <td>279</td>\n",
       "      <td>14359.0</td>\n",
       "    </tr>\n",
       "    <tr>\n",
       "      <th>1586595</th>\n",
       "      <td>14359</td>\n",
       "      <td>279</td>\n",
       "      <td>14359.0</td>\n",
       "    </tr>\n",
       "    <tr>\n",
       "      <th>1586596</th>\n",
       "      <td>14359</td>\n",
       "      <td>279</td>\n",
       "      <td>14359.0</td>\n",
       "    </tr>\n",
       "    <tr>\n",
       "      <th>1586597</th>\n",
       "      <td>14359</td>\n",
       "      <td>279</td>\n",
       "      <td>14359.0</td>\n",
       "    </tr>\n",
       "    <tr>\n",
       "      <th>1586598</th>\n",
       "      <td>14359</td>\n",
       "      <td>279</td>\n",
       "      <td>14359.0</td>\n",
       "    </tr>\n",
       "  </tbody>\n",
       "</table>\n",
       "<p>1586599 rows × 3 columns</p>\n",
       "</div>"
      ]
     },
     "metadata": {},
     "execution_count": 124
    }
   ],
   "metadata": {}
  },
  {
   "cell_type": "markdown",
   "source": [
    "Now we will target encode the id_bew column. To prevent overfitting groups with small sample sizes, we will use a minimum sample size of 270 per batch. A smoothing co-efficient of 0.5 applied to still incorporate average for groups that had sufficient sample"
   ],
   "metadata": {}
  },
  {
   "cell_type": "code",
   "execution_count": 125,
   "source": [
    "ce_target = ce.TargetEncoder(cols = ['id_new'], min_samples_leaf=270, smoothing = 0.5) "
   ],
   "outputs": [],
   "metadata": {}
  },
  {
   "cell_type": "code",
   "execution_count": 126,
   "source": [
    "X=pd.DataFrame(brewery_id_new['id_new'])"
   ],
   "outputs": [],
   "metadata": {}
  },
  {
   "cell_type": "code",
   "execution_count": 127,
   "source": [
    "Y=pd.DataFrame(fitted_target)"
   ],
   "outputs": [],
   "metadata": {}
  },
  {
   "cell_type": "code",
   "execution_count": 128,
   "source": [
    "ce_target.fit(X,Y)"
   ],
   "outputs": [
    {
     "output_type": "execute_result",
     "data": {
      "text/plain": [
       "TargetEncoder(cols=['id_new'], drop_invariant=False, handle_missing='value',\n",
       "              handle_unknown='value', min_samples_leaf=270, return_df=True,\n",
       "              smoothing=0.5, verbose=0)"
      ]
     },
     "metadata": {},
     "execution_count": 128
    }
   ],
   "metadata": {}
  },
  {
   "cell_type": "markdown",
   "source": [
    "Now the brewery id has been converted to a numerical feature"
   ],
   "metadata": {}
  },
  {
   "cell_type": "code",
   "execution_count": 129,
   "source": [
    "encoded_brewery_id=ce_target.transform(X,Y)\r\n",
    "encoded_brewery_id"
   ],
   "outputs": [
    {
     "output_type": "execute_result",
     "data": {
      "text/plain": [
       "            id_new\n",
       "0        40.871617\n",
       "1        40.871617\n",
       "2        40.871617\n",
       "3        40.871617\n",
       "4        18.587177\n",
       "...            ...\n",
       "1586594  43.293907\n",
       "1586595  43.293907\n",
       "1586596  43.293907\n",
       "1586597  43.293907\n",
       "1586598  43.293907\n",
       "\n",
       "[1586599 rows x 1 columns]"
      ],
      "text/html": [
       "<div>\n",
       "<style scoped>\n",
       "    .dataframe tbody tr th:only-of-type {\n",
       "        vertical-align: middle;\n",
       "    }\n",
       "\n",
       "    .dataframe tbody tr th {\n",
       "        vertical-align: top;\n",
       "    }\n",
       "\n",
       "    .dataframe thead th {\n",
       "        text-align: right;\n",
       "    }\n",
       "</style>\n",
       "<table border=\"1\" class=\"dataframe\">\n",
       "  <thead>\n",
       "    <tr style=\"text-align: right;\">\n",
       "      <th></th>\n",
       "      <th>id_new</th>\n",
       "    </tr>\n",
       "  </thead>\n",
       "  <tbody>\n",
       "    <tr>\n",
       "      <th>0</th>\n",
       "      <td>40.871617</td>\n",
       "    </tr>\n",
       "    <tr>\n",
       "      <th>1</th>\n",
       "      <td>40.871617</td>\n",
       "    </tr>\n",
       "    <tr>\n",
       "      <th>2</th>\n",
       "      <td>40.871617</td>\n",
       "    </tr>\n",
       "    <tr>\n",
       "      <th>3</th>\n",
       "      <td>40.871617</td>\n",
       "    </tr>\n",
       "    <tr>\n",
       "      <th>4</th>\n",
       "      <td>18.587177</td>\n",
       "    </tr>\n",
       "    <tr>\n",
       "      <th>...</th>\n",
       "      <td>...</td>\n",
       "    </tr>\n",
       "    <tr>\n",
       "      <th>1586594</th>\n",
       "      <td>43.293907</td>\n",
       "    </tr>\n",
       "    <tr>\n",
       "      <th>1586595</th>\n",
       "      <td>43.293907</td>\n",
       "    </tr>\n",
       "    <tr>\n",
       "      <th>1586596</th>\n",
       "      <td>43.293907</td>\n",
       "    </tr>\n",
       "    <tr>\n",
       "      <th>1586597</th>\n",
       "      <td>43.293907</td>\n",
       "    </tr>\n",
       "    <tr>\n",
       "      <th>1586598</th>\n",
       "      <td>43.293907</td>\n",
       "    </tr>\n",
       "  </tbody>\n",
       "</table>\n",
       "<p>1586599 rows × 1 columns</p>\n",
       "</div>"
      ]
     },
     "metadata": {},
     "execution_count": 129
    }
   ],
   "metadata": {}
  },
  {
   "cell_type": "markdown",
   "source": [
    "There are 702 unique values in the brewery id after target encoding"
   ],
   "metadata": {}
  },
  {
   "cell_type": "code",
   "execution_count": 131,
   "source": [
    "len(encoded_brewery_id.drop_duplicates())"
   ],
   "outputs": [
    {
     "output_type": "execute_result",
     "data": {
      "text/plain": [
       "702"
      ]
     },
     "metadata": {},
     "execution_count": 131
    }
   ],
   "metadata": {}
  },
  {
   "cell_type": "code",
   "execution_count": 132,
   "source": [
    "#dump the category encoder into the models folder\r\n",
    "dump(ce_target,  '../models/ce_target.joblib')"
   ],
   "outputs": [
    {
     "output_type": "execute_result",
     "data": {
      "text/plain": [
       "['../models/ce_target.joblib']"
      ]
     },
     "metadata": {},
     "execution_count": 132
    }
   ],
   "metadata": {}
  },
  {
   "cell_type": "markdown",
   "source": [
    "Add the target encoded brewery id into the dataframe."
   ],
   "metadata": {}
  },
  {
   "cell_type": "code",
   "execution_count": 133,
   "source": [
    "df_clean['encoded_brewery_id'] = encoded_brewery_id"
   ],
   "outputs": [],
   "metadata": {}
  },
  {
   "cell_type": "markdown",
   "source": [
    "### Section 4. Creating training, testing, and validation datasets"
   ],
   "metadata": {}
  },
  {
   "cell_type": "markdown",
   "source": [
    "We create the create a matrix of the features to be used in the model"
   ],
   "metadata": {}
  },
  {
   "cell_type": "code",
   "execution_count": 135,
   "source": [
    "num_cols=['review_aroma', 'review_appearance', 'review_palate', 'review_taste', 'beer_abv', 'encoded_brewery_id']"
   ],
   "outputs": [],
   "metadata": {}
  },
  {
   "cell_type": "code",
   "execution_count": 136,
   "source": [
    "#Create matrix of X variables\r\n",
    "X_analysis = df_clean[num_cols]\r\n",
    "X_analysis"
   ],
   "outputs": [
    {
     "output_type": "execute_result",
     "data": {
      "text/plain": [
       "         review_aroma  review_appearance  review_palate  review_taste  \\\n",
       "0                 2.0                2.5            1.5           1.5   \n",
       "1                 2.5                3.0            3.0           3.0   \n",
       "2                 2.5                3.0            3.0           3.0   \n",
       "3                 3.0                3.5            2.5           3.0   \n",
       "4                 4.5                4.0            4.0           4.5   \n",
       "...               ...                ...            ...           ...   \n",
       "1586594           4.0                3.5            4.0           4.0   \n",
       "1586595           5.0                2.5            2.0           4.0   \n",
       "1586596           3.5                3.0            3.5           4.0   \n",
       "1586597           4.5                4.5            4.5           4.5   \n",
       "1586598           4.5                4.5            4.5           4.5   \n",
       "\n",
       "         beer_abv  encoded_brewery_id  \n",
       "0             5.0           40.871617  \n",
       "1             6.2           40.871617  \n",
       "2             6.5           40.871617  \n",
       "3             5.0           40.871617  \n",
       "4             7.7           18.587177  \n",
       "...           ...                 ...  \n",
       "1586594       5.2           43.293907  \n",
       "1586595       5.2           43.293907  \n",
       "1586596       5.2           43.293907  \n",
       "1586597       5.2           43.293907  \n",
       "1586598       5.2           43.293907  \n",
       "\n",
       "[1586599 rows x 6 columns]"
      ],
      "text/html": [
       "<div>\n",
       "<style scoped>\n",
       "    .dataframe tbody tr th:only-of-type {\n",
       "        vertical-align: middle;\n",
       "    }\n",
       "\n",
       "    .dataframe tbody tr th {\n",
       "        vertical-align: top;\n",
       "    }\n",
       "\n",
       "    .dataframe thead th {\n",
       "        text-align: right;\n",
       "    }\n",
       "</style>\n",
       "<table border=\"1\" class=\"dataframe\">\n",
       "  <thead>\n",
       "    <tr style=\"text-align: right;\">\n",
       "      <th></th>\n",
       "      <th>review_aroma</th>\n",
       "      <th>review_appearance</th>\n",
       "      <th>review_palate</th>\n",
       "      <th>review_taste</th>\n",
       "      <th>beer_abv</th>\n",
       "      <th>encoded_brewery_id</th>\n",
       "    </tr>\n",
       "  </thead>\n",
       "  <tbody>\n",
       "    <tr>\n",
       "      <th>0</th>\n",
       "      <td>2.0</td>\n",
       "      <td>2.5</td>\n",
       "      <td>1.5</td>\n",
       "      <td>1.5</td>\n",
       "      <td>5.0</td>\n",
       "      <td>40.871617</td>\n",
       "    </tr>\n",
       "    <tr>\n",
       "      <th>1</th>\n",
       "      <td>2.5</td>\n",
       "      <td>3.0</td>\n",
       "      <td>3.0</td>\n",
       "      <td>3.0</td>\n",
       "      <td>6.2</td>\n",
       "      <td>40.871617</td>\n",
       "    </tr>\n",
       "    <tr>\n",
       "      <th>2</th>\n",
       "      <td>2.5</td>\n",
       "      <td>3.0</td>\n",
       "      <td>3.0</td>\n",
       "      <td>3.0</td>\n",
       "      <td>6.5</td>\n",
       "      <td>40.871617</td>\n",
       "    </tr>\n",
       "    <tr>\n",
       "      <th>3</th>\n",
       "      <td>3.0</td>\n",
       "      <td>3.5</td>\n",
       "      <td>2.5</td>\n",
       "      <td>3.0</td>\n",
       "      <td>5.0</td>\n",
       "      <td>40.871617</td>\n",
       "    </tr>\n",
       "    <tr>\n",
       "      <th>4</th>\n",
       "      <td>4.5</td>\n",
       "      <td>4.0</td>\n",
       "      <td>4.0</td>\n",
       "      <td>4.5</td>\n",
       "      <td>7.7</td>\n",
       "      <td>18.587177</td>\n",
       "    </tr>\n",
       "    <tr>\n",
       "      <th>...</th>\n",
       "      <td>...</td>\n",
       "      <td>...</td>\n",
       "      <td>...</td>\n",
       "      <td>...</td>\n",
       "      <td>...</td>\n",
       "      <td>...</td>\n",
       "    </tr>\n",
       "    <tr>\n",
       "      <th>1586594</th>\n",
       "      <td>4.0</td>\n",
       "      <td>3.5</td>\n",
       "      <td>4.0</td>\n",
       "      <td>4.0</td>\n",
       "      <td>5.2</td>\n",
       "      <td>43.293907</td>\n",
       "    </tr>\n",
       "    <tr>\n",
       "      <th>1586595</th>\n",
       "      <td>5.0</td>\n",
       "      <td>2.5</td>\n",
       "      <td>2.0</td>\n",
       "      <td>4.0</td>\n",
       "      <td>5.2</td>\n",
       "      <td>43.293907</td>\n",
       "    </tr>\n",
       "    <tr>\n",
       "      <th>1586596</th>\n",
       "      <td>3.5</td>\n",
       "      <td>3.0</td>\n",
       "      <td>3.5</td>\n",
       "      <td>4.0</td>\n",
       "      <td>5.2</td>\n",
       "      <td>43.293907</td>\n",
       "    </tr>\n",
       "    <tr>\n",
       "      <th>1586597</th>\n",
       "      <td>4.5</td>\n",
       "      <td>4.5</td>\n",
       "      <td>4.5</td>\n",
       "      <td>4.5</td>\n",
       "      <td>5.2</td>\n",
       "      <td>43.293907</td>\n",
       "    </tr>\n",
       "    <tr>\n",
       "      <th>1586598</th>\n",
       "      <td>4.5</td>\n",
       "      <td>4.5</td>\n",
       "      <td>4.5</td>\n",
       "      <td>4.5</td>\n",
       "      <td>5.2</td>\n",
       "      <td>43.293907</td>\n",
       "    </tr>\n",
       "  </tbody>\n",
       "</table>\n",
       "<p>1586599 rows × 6 columns</p>\n",
       "</div>"
      ]
     },
     "metadata": {},
     "execution_count": 136
    }
   ],
   "metadata": {}
  },
  {
   "cell_type": "code",
   "execution_count": 137,
   "source": [
    "#All the features are now numerical. Scale the features.\r\n",
    "sc = StandardScaler()\r\n",
    "X_analysis=  sc.fit_transform(X_analysis)\r\n",
    "X_analysis"
   ],
   "outputs": [
    {
     "output_type": "execute_result",
     "data": {
      "text/plain": [
       "array([[-2.48796366, -2.17768163, -3.28886329, -3.13247601, -0.87115549,\n",
       "        -0.09139965],\n",
       "       [-1.77123494, -1.36611144, -1.09013615, -1.0831992 , -0.34894872,\n",
       "        -0.09139965],\n",
       "       [-1.77123494, -1.36611144, -1.09013615, -1.0831992 , -0.21839702,\n",
       "        -0.09139965],\n",
       "       ...,\n",
       "       [-0.33777748, -1.36611144, -0.3572271 ,  0.28298534, -0.78412103,\n",
       "         0.07323325],\n",
       "       [ 1.09567997,  1.06859912,  1.108591  ,  0.96607761, -0.78412103,\n",
       "         0.07323325],\n",
       "       [ 1.09567997,  1.06859912,  1.108591  ,  0.96607761, -0.78412103,\n",
       "         0.07323325]])"
      ]
     },
     "metadata": {},
     "execution_count": 137
    }
   ],
   "metadata": {}
  },
  {
   "cell_type": "code",
   "execution_count": 138,
   "source": [
    "#dump the scaler into the models folder\r\n",
    "dump(sc,  '../models/sc.joblib')"
   ],
   "outputs": [
    {
     "output_type": "execute_result",
     "data": {
      "text/plain": [
       "['../models/sc.joblib']"
      ]
     },
     "metadata": {},
     "execution_count": 138
    }
   ],
   "metadata": {}
  },
  {
   "cell_type": "code",
   "execution_count": 139,
   "source": [
    "#Split model into train, validation, and test dataset\r\n",
    "X_train, X_test, y_train, y_test = train_test_split(X_analysis, fitted_target, test_size=0.2, random_state=8)\r\n",
    "X_train, X_val, y_train, y_val = train_test_split(X_train, y_train, test_size=0.25, random_state=8) "
   ],
   "outputs": [],
   "metadata": {}
  },
  {
   "cell_type": "markdown",
   "source": [
    "### Section 5. Fit a neural network model using PyTorch"
   ],
   "metadata": {}
  },
  {
   "cell_type": "markdown",
   "source": [
    "We will convert our dataset into tensors"
   ],
   "metadata": {}
  },
  {
   "cell_type": "code",
   "execution_count": 141,
   "source": [
    "from src.models.pytorch import PytorchDataset\r\n",
    "\r\n",
    "train_dataset = PytorchDataset(X=X_train, y=y_train)\r\n",
    "val_dataset = PytorchDataset(X=X_val, y=y_val)\r\n",
    "test_dataset = PytorchDataset(X=X_test, y=y_test)"
   ],
   "outputs": [],
   "metadata": {}
  },
  {
   "cell_type": "markdown",
   "source": [
    "We will fit a model with three hidden layers. Each layer is normalised. The layers are activated with a\n",
    "non-linear tanh function"
   ],
   "metadata": {}
  },
  {
   "cell_type": "code",
   "execution_count": 142,
   "source": [
    "class PytorchMultiClass(nn.Module):\r\n",
    "    def __init__(self, num_features):\r\n",
    "        super(PytorchMultiClass, self).__init__()\r\n",
    "        self.layer_1 = nn.Linear(num_features, 512)\r\n",
    "        self.norm_1=nn.LayerNorm(512)\r\n",
    "        self.layer_2 = nn.Linear(512, 256)\r\n",
    "        self.norm_2=nn.LayerNorm(256)\r\n",
    "        self.layer_3 = nn.Linear(256, 128)\r\n",
    "        self.norm_3=nn.LayerNorm(128)\r\n",
    "        self.layer_out = nn.Linear(128, 104)        \r\n",
    "\r\n",
    "    def forward(self, x):\r\n",
    "        x = F.tanh(self.layer_1(x))\r\n",
    "        x = self.norm_1(x)\r\n",
    "        x = F.tanh(self.layer_2(x))\r\n",
    "        x = self.norm_2(x)\r\n",
    "        x = F.tanh(self.layer_3(x))\r\n",
    "        x = self.norm_3(x)\r\n",
    "        x = self.layer_out(x)"
   ],
   "outputs": [],
   "metadata": {}
  },
  {
   "cell_type": "code",
   "execution_count": 143,
   "source": [
    "model = PytorchMultiClass(X_train.shape[1])"
   ],
   "outputs": [],
   "metadata": {}
  },
  {
   "cell_type": "code",
   "execution_count": 144,
   "source": [
    "from src.models.pytorch import get_device\r\n",
    "\r\n",
    "device = get_device()\r\n",
    "model.to(device)"
   ],
   "outputs": [
    {
     "output_type": "execute_result",
     "data": {
      "text/plain": [
       "PytorchMultiClass(\n",
       "  (layer_1): Linear(in_features=6, out_features=512, bias=True)\n",
       "  (norm_1): LayerNorm((512,), eps=1e-05, elementwise_affine=True)\n",
       "  (layer_2): Linear(in_features=512, out_features=256, bias=True)\n",
       "  (norm_2): LayerNorm((256,), eps=1e-05, elementwise_affine=True)\n",
       "  (layer_3): Linear(in_features=256, out_features=128, bias=True)\n",
       "  (norm_3): LayerNorm((128,), eps=1e-05, elementwise_affine=True)\n",
       "  (layer_out): Linear(in_features=128, out_features=104, bias=True)\n",
       ")"
      ]
     },
     "metadata": {},
     "execution_count": 144
    }
   ],
   "metadata": {}
  },
  {
   "cell_type": "markdown",
   "source": [
    "As it is multi-classification model, a cross entropy loss function is applied"
   ],
   "metadata": {}
  },
  {
   "cell_type": "code",
   "execution_count": 145,
   "source": [
    "criterion = nn.CrossEntropyLoss()"
   ],
   "outputs": [],
   "metadata": {}
  },
  {
   "cell_type": "markdown",
   "source": [
    "The loss function is optimised using ADAM optimiser, learning rate = 0.001"
   ],
   "metadata": {}
  },
  {
   "cell_type": "code",
   "execution_count": 146,
   "source": [
    "optimizer = torch.optim.Adam(model.parameters(), lr=0.001)"
   ],
   "outputs": [],
   "metadata": {}
  },
  {
   "cell_type": "code",
   "execution_count": 140,
   "source": [
    "from src.models.pytorch import train_classification\r\n",
    "from src.models.pytorch import test_classification"
   ],
   "outputs": [],
   "metadata": {}
  },
  {
   "cell_type": "markdown",
   "source": [
    "The accuracy level of stabilised at around 67% after 100 epochs"
   ],
   "metadata": {}
  },
  {
   "cell_type": "code",
   "execution_count": 66,
   "source": [
    "N_EPOCHS = 10\r\n",
    "BATCH_SIZE = 1000"
   ],
   "outputs": [],
   "metadata": {}
  },
  {
   "cell_type": "code",
   "execution_count": 67,
   "source": [
    "for epoch in range(N_EPOCHS):\n",
    "    train_loss, train_acc = train_classification(train_dataset, model=model, criterion=criterion, optimizer=optimizer, batch_size=BATCH_SIZE, device=device)\n",
    "    valid_loss, valid_acc = test_classification(val_dataset, model=model, criterion=criterion, batch_size=BATCH_SIZE, device=device)\n",
    "\n",
    "    print(f'Epoch: {epoch}')\n",
    "    print(f'\\t(train)\\t|\\tLoss: {train_loss:.4f}\\t|\\tAcc: {train_acc * 100:.1f}%')\n",
    "    print(f'\\t(valid)\\t|\\tLoss: {valid_loss:.4f}\\t|\\tAcc: {valid_acc * 100:.1f}%')"
   ],
   "outputs": [
    {
     "output_type": "stream",
     "name": "stdout",
     "text": [
      "Epoch: 0\n",
      "\t(train)\t|\tLoss: 0.0011\t|\tAcc: 67.5%\n",
      "\t(valid)\t|\tLoss: 0.0012\t|\tAcc: 66.8%\n",
      "Epoch: 1\n",
      "\t(train)\t|\tLoss: 0.0011\t|\tAcc: 67.5%\n",
      "\t(valid)\t|\tLoss: 0.0011\t|\tAcc: 67.0%\n",
      "Epoch: 2\n",
      "\t(train)\t|\tLoss: 0.0011\t|\tAcc: 67.6%\n",
      "\t(valid)\t|\tLoss: 0.0012\t|\tAcc: 66.9%\n",
      "Epoch: 3\n",
      "\t(train)\t|\tLoss: 0.0011\t|\tAcc: 67.6%\n",
      "\t(valid)\t|\tLoss: 0.0011\t|\tAcc: 67.3%\n",
      "Epoch: 4\n",
      "\t(train)\t|\tLoss: 0.0011\t|\tAcc: 67.6%\n",
      "\t(valid)\t|\tLoss: 0.0011\t|\tAcc: 67.3%\n",
      "Epoch: 5\n",
      "\t(train)\t|\tLoss: 0.0011\t|\tAcc: 67.7%\n",
      "\t(valid)\t|\tLoss: 0.0011\t|\tAcc: 67.1%\n",
      "Epoch: 6\n",
      "\t(train)\t|\tLoss: 0.0011\t|\tAcc: 67.7%\n",
      "\t(valid)\t|\tLoss: 0.0011\t|\tAcc: 66.9%\n",
      "Epoch: 7\n",
      "\t(train)\t|\tLoss: 0.0011\t|\tAcc: 67.7%\n",
      "\t(valid)\t|\tLoss: 0.0011\t|\tAcc: 67.2%\n",
      "Epoch: 8\n",
      "\t(train)\t|\tLoss: 0.0011\t|\tAcc: 67.7%\n",
      "\t(valid)\t|\tLoss: 0.0011\t|\tAcc: 66.9%\n",
      "Epoch: 9\n",
      "\t(train)\t|\tLoss: 0.0011\t|\tAcc: 67.7%\n",
      "\t(valid)\t|\tLoss: 0.0011\t|\tAcc: 67.2%\n"
     ]
    }
   ],
   "metadata": {}
  },
  {
   "cell_type": "code",
   "execution_count": 68,
   "source": [
    "#torch.save(model.state_dict(), \"../models/beeroracle_final_normal.pt\")"
   ],
   "outputs": [],
   "metadata": {}
  },
  {
   "cell_type": "code",
   "execution_count": 69,
   "source": [
    "test_loss, test_acc = test_classification(test_dataset, model=model, criterion=criterion, batch_size=BATCH_SIZE, device=device)\n",
    "print(f'\\tLoss: {test_loss:.4f}\\t|\\tAccuracy: {test_acc:.2f}')"
   ],
   "outputs": [
    {
     "output_type": "stream",
     "name": "stdout",
     "text": [
      "\tLoss: 0.0011\t|\tAccuracy: 0.67\n"
     ]
    }
   ],
   "metadata": {}
  }
 ],
 "metadata": {
  "kernelspec": {
   "display_name": "Python 3",
   "language": "python",
   "name": "python3"
  },
  "language_info": {
   "codemirror_mode": {
    "name": "ipython",
    "version": 3
   },
   "file_extension": ".py",
   "mimetype": "text/x-python",
   "name": "python",
   "nbconvert_exporter": "python",
   "pygments_lexer": "ipython3",
   "version": "3.7.6"
  }
 },
 "nbformat": 4,
 "nbformat_minor": 4
}