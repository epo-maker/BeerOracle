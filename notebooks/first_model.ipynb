{
 "cells": [
  {
   "cell_type": "markdown",
   "metadata": {},
   "source": [
    "### First model\n",
    "\n",
    "First model had a final soft max layer. This caused the model's accuracy to hover around 25-27%"
   ]
  },
  {
   "cell_type": "code",
   "execution_count": 1,
   "metadata": {},
   "outputs": [],
   "source": [
    "import pandas as pd\n",
    "import numpy as np\n",
    "import seaborn as sns\n",
    "from sklearn.preprocessing import StandardScaler, LabelEncoder\n",
    "from sklearn.model_selection import train_test_split\n",
    "from joblib import dump\n",
    "import category_encoders as ce\n",
    "\n",
    "from torch.utils.data import Dataset, DataLoader\n",
    "import torch\n",
    "import torch.nn as nn\n",
    "import torch.nn.functional as F"
   ]
  },
  {
   "cell_type": "code",
   "execution_count": 2,
   "metadata": {},
   "outputs": [],
   "source": [
    "df = pd.read_csv(\"../data/raw/beer_reviews.csv\")"
   ]
  },
  {
   "cell_type": "code",
   "execution_count": 3,
   "metadata": {},
   "outputs": [],
   "source": [
    "df_clean = df.copy()\n",
    "df_clean = df_clean.dropna(subset=['brewery_name'])"
   ]
  },
  {
   "cell_type": "code",
   "execution_count": 4,
   "metadata": {},
   "outputs": [],
   "source": [
    "#Reset the index\n",
    "df_clean.reset_index(drop=True, inplace=True)"
   ]
  },
  {
   "cell_type": "code",
   "execution_count": 5,
   "metadata": {},
   "outputs": [],
   "source": [
    "#Replace na alcohol levels by the average alcohol level for the beer style\n",
    "df_clean[\"beer_abv\"]=df_clean.groupby(\"beer_style\")[\"beer_abv\"].transform(lambda x: x.fillna(x.mean()))"
   ]
  },
  {
   "cell_type": "code",
   "execution_count": 6,
   "metadata": {},
   "outputs": [],
   "source": [
    "#pop target into another y list\n",
    "target = df_clean['beer_style']"
   ]
  },
  {
   "cell_type": "code",
   "execution_count": 7,
   "metadata": {},
   "outputs": [],
   "source": [
    "le = LabelEncoder()"
   ]
  },
  {
   "cell_type": "code",
   "execution_count": 8,
   "metadata": {},
   "outputs": [],
   "source": [
    "fitted_target = le.fit_transform(target)"
   ]
  },
  {
   "cell_type": "code",
   "execution_count": 9,
   "metadata": {},
   "outputs": [],
   "source": [
    "brewery_id_new = pd.DataFrame(df_clean['brewery_id'])\n",
    "\n",
    "brewery_id_new['brewery_id_count']=brewery_id_new.groupby('brewery_id')['brewery_id'].transform('count')\n",
    "brewery_id_new['id_new'] = brewery_id_new['brewery_id_count'].transform(lambda x: x if x > 100 else 0)\n",
    "brewery_id_new['id_new'] = brewery_id_new.loc[brewery_id_new['id_new'] > 100, 'brewery_id'].fillna(0)\n",
    "\n",
    "\n",
    "brewery_id_new.fillna(0, inplace=True)\n"
   ]
  },
  {
   "cell_type": "code",
   "execution_count": 10,
   "metadata": {},
   "outputs": [],
   "source": [
    "ce_target = ce.TargetEncoder(cols = ['id_new'], min_samples_leaf=270, smoothing = 0.5) #was 100,250 before, smoothing was 5"
   ]
  },
  {
   "cell_type": "code",
   "execution_count": 11,
   "metadata": {},
   "outputs": [],
   "source": [
    "X=pd.DataFrame(brewery_id_new['id_new'])"
   ]
  },
  {
   "cell_type": "code",
   "execution_count": 12,
   "metadata": {},
   "outputs": [],
   "source": [
    "Y=pd.DataFrame(fitted_target)"
   ]
  },
  {
   "cell_type": "code",
   "execution_count": 13,
   "metadata": {},
   "outputs": [
    {
     "data": {
      "text/plain": [
       "TargetEncoder(cols=['id_new'], drop_invariant=False, handle_missing='value',\n",
       "              handle_unknown='value', min_samples_leaf=270, return_df=True,\n",
       "              smoothing=0.5, verbose=0)"
      ]
     },
     "execution_count": 13,
     "metadata": {},
     "output_type": "execute_result"
    }
   ],
   "source": [
    "ce_target.fit(X,Y)"
   ]
  },
  {
   "cell_type": "code",
   "execution_count": 14,
   "metadata": {},
   "outputs": [],
   "source": [
    "encoded_brewery_id=ce_target.transform(X,Y)"
   ]
  },
  {
   "cell_type": "code",
   "execution_count": 15,
   "metadata": {},
   "outputs": [],
   "source": [
    "brewery_id_new['encoded_brewery_id'] = encoded_brewery_id"
   ]
  },
  {
   "cell_type": "code",
   "execution_count": 16,
   "metadata": {},
   "outputs": [],
   "source": [
    "df_clean['encoded_brewery_id'] = encoded_brewery_id"
   ]
  },
  {
   "cell_type": "code",
   "execution_count": 17,
   "metadata": {},
   "outputs": [],
   "source": [
    "num_cols=['review_aroma', 'review_appearance', 'review_palate', 'review_taste', 'beer_abv', 'encoded_brewery_id']"
   ]
  },
  {
   "cell_type": "code",
   "execution_count": 18,
   "metadata": {},
   "outputs": [],
   "source": [
    "#Create matrix of X variables\n",
    "X_analysis = df_clean[num_cols]"
   ]
  },
  {
   "cell_type": "code",
   "execution_count": 19,
   "metadata": {},
   "outputs": [],
   "source": [
    "#All the features are now numerical. Scale the features.\n",
    "sc = StandardScaler()\n",
    "X_analysis=  sc.fit_transform(X_analysis)"
   ]
  },
  {
   "cell_type": "code",
   "execution_count": 20,
   "metadata": {},
   "outputs": [],
   "source": [
    "#Split model into train, validation, and test dataset\n",
    "X_train, X_test, y_train, y_test = train_test_split(X_analysis, fitted_target, test_size=0.2, random_state=8)\n",
    "X_train, X_val, y_train, y_val = train_test_split(X_train, y_train, test_size=0.25, random_state=8) "
   ]
  },
  {
   "cell_type": "code",
   "execution_count": 21,
   "metadata": {},
   "outputs": [],
   "source": [
    "from src.models.pytorch import PytorchDataset\n",
    "\n",
    "train_dataset = PytorchDataset(X=X_train, y=y_train)\n",
    "val_dataset = PytorchDataset(X=X_val, y=y_val)\n",
    "test_dataset = PytorchDataset(X=X_test, y=y_test)"
   ]
  },
  {
   "cell_type": "code",
   "execution_count": 22,
   "metadata": {},
   "outputs": [],
   "source": [
    "class PytorchMultiClass(nn.Module):\n",
    "    def __init__(self, num_features):\n",
    "        super(PytorchMultiClass, self).__init__()\n",
    "        self.layer_1 = nn.Linear(num_features, 512)\n",
    "        self.layer_2 = nn.Linear(512, 256)\n",
    "        self.layer_3 = nn.Linear(256, 128)\n",
    "        self.layer_out = nn.Linear(128, 104)\n",
    "        self.softmax = nn.Softmax(dim=1)\n",
    "\n",
    "    def forward(self, x):\n",
    "        x = F.tanh(self.layer_1(x))\n",
    "        x = F.tanh(self.layer_2(x))\n",
    "        x = F.tanh(self.layer_3(x))\n",
    "        x = self.layer_out(x)\n",
    "        return self.softmax(x)\n"
   ]
  },
  {
   "cell_type": "code",
   "execution_count": 23,
   "metadata": {},
   "outputs": [],
   "source": [
    "model = PytorchMultiClass(X_train.shape[1])"
   ]
  },
  {
   "cell_type": "code",
   "execution_count": 24,
   "metadata": {},
   "outputs": [
    {
     "data": {
      "text/plain": [
       "PytorchMultiClass(\n",
       "  (layer_1): Linear(in_features=6, out_features=512, bias=True)\n",
       "  (layer_2): Linear(in_features=512, out_features=256, bias=True)\n",
       "  (layer_3): Linear(in_features=256, out_features=128, bias=True)\n",
       "  (layer_out): Linear(in_features=128, out_features=104, bias=True)\n",
       "  (softmax): Softmax(dim=1)\n",
       ")"
      ]
     },
     "execution_count": 24,
     "metadata": {},
     "output_type": "execute_result"
    }
   ],
   "source": [
    "from src.models.pytorch import get_device\n",
    "\n",
    "device = get_device()\n",
    "model.to(device)"
   ]
  },
  {
   "cell_type": "code",
   "execution_count": 25,
   "metadata": {},
   "outputs": [],
   "source": [
    "criterion = nn.CrossEntropyLoss()"
   ]
  },
  {
   "cell_type": "code",
   "execution_count": 26,
   "metadata": {},
   "outputs": [],
   "source": [
    "optimizer = torch.optim.Adam(model.parameters(), lr=0.001)"
   ]
  },
  {
   "cell_type": "code",
   "execution_count": 27,
   "metadata": {},
   "outputs": [],
   "source": [
    "from src.models.pytorch import train_classification\n",
    "from src.models.pytorch import test_classification"
   ]
  },
  {
   "cell_type": "code",
   "execution_count": 49,
   "metadata": {},
   "outputs": [],
   "source": [
    "N_EPOCHS = 10\n",
    "BATCH_SIZE = 1000"
   ]
  },
  {
   "cell_type": "code",
   "execution_count": 62,
   "metadata": {},
   "outputs": [
    {
     "name": "stdout",
     "output_type": "stream",
     "text": [
      "Epoch: 0\n",
      "\t(train)\t|\tLoss: 0.0044\t|\tAcc: 25.5%\n",
      "\t(valid)\t|\tLoss: 0.0044\t|\tAcc: 25.5%\n",
      "Epoch: 1\n",
      "\t(train)\t|\tLoss: 0.0044\t|\tAcc: 25.4%\n",
      "\t(valid)\t|\tLoss: 0.0044\t|\tAcc: 25.3%\n",
      "Epoch: 2\n",
      "\t(train)\t|\tLoss: 0.0044\t|\tAcc: 25.5%\n",
      "\t(valid)\t|\tLoss: 0.0044\t|\tAcc: 25.4%\n",
      "Epoch: 3\n",
      "\t(train)\t|\tLoss: 0.0044\t|\tAcc: 25.4%\n",
      "\t(valid)\t|\tLoss: 0.0044\t|\tAcc: 25.5%\n",
      "Epoch: 4\n",
      "\t(train)\t|\tLoss: 0.0044\t|\tAcc: 25.5%\n",
      "\t(valid)\t|\tLoss: 0.0044\t|\tAcc: 25.4%\n",
      "Epoch: 5\n",
      "\t(train)\t|\tLoss: 0.0044\t|\tAcc: 25.5%\n",
      "\t(valid)\t|\tLoss: 0.0044\t|\tAcc: 25.5%\n",
      "Epoch: 6\n",
      "\t(train)\t|\tLoss: 0.0044\t|\tAcc: 25.5%\n",
      "\t(valid)\t|\tLoss: 0.0044\t|\tAcc: 25.5%\n",
      "Epoch: 7\n",
      "\t(train)\t|\tLoss: 0.0044\t|\tAcc: 25.5%\n",
      "\t(valid)\t|\tLoss: 0.0044\t|\tAcc: 25.4%\n",
      "Epoch: 8\n",
      "\t(train)\t|\tLoss: 0.0044\t|\tAcc: 25.5%\n",
      "\t(valid)\t|\tLoss: 0.0044\t|\tAcc: 25.3%\n",
      "Epoch: 9\n",
      "\t(train)\t|\tLoss: 0.0044\t|\tAcc: 25.5%\n",
      "\t(valid)\t|\tLoss: 0.0044\t|\tAcc: 25.6%\n"
     ]
    }
   ],
   "source": [
    "for epoch in range(N_EPOCHS):\n",
    "    train_loss, train_acc = train_classification(train_dataset, model=model, criterion=criterion, optimizer=optimizer, batch_size=BATCH_SIZE, device=device)\n",
    "    valid_loss, valid_acc = test_classification(val_dataset, model=model, criterion=criterion, batch_size=BATCH_SIZE, device=device)\n",
    "\n",
    "    print(f'Epoch: {epoch}')\n",
    "    print(f'\\t(train)\\t|\\tLoss: {train_loss:.4f}\\t|\\tAcc: {train_acc * 100:.1f}%')\n",
    "    print(f'\\t(valid)\\t|\\tLoss: {valid_loss:.4f}\\t|\\tAcc: {valid_acc * 100:.1f}%')"
   ]
  },
  {
   "cell_type": "code",
   "execution_count": 63,
   "metadata": {},
   "outputs": [],
   "source": [
    "#torch.save(model, \"../models/beeroracle_final.pt\")"
   ]
  },
  {
   "cell_type": "code",
   "execution_count": 64,
   "metadata": {},
   "outputs": [
    {
     "name": "stdout",
     "output_type": "stream",
     "text": [
      "\tLoss: 0.0044\t|\tAccuracy: 0.26\n"
     ]
    }
   ],
   "source": [
    "test_loss, test_acc = test_classification(test_dataset, model=model, criterion=criterion, batch_size=BATCH_SIZE, device=device)\n",
    "print(f'\\tLoss: {test_loss:.4f}\\t|\\tAccuracy: {test_acc:.2f}')"
   ]
  },
  {
   "cell_type": "markdown",
   "metadata": {},
   "source": [
    "It was re-run and accuracy increased to 27%"
   ]
  },
  {
   "cell_type": "markdown",
   "metadata": {},
   "source": [
    "Epoch: 0\n",
    "\t(train)\t|\tLoss: 0.0044\t|\tAcc: 26.6%\n",
    "\t(valid)\t|\tLoss: 0.0044\t|\tAcc: 26.5%\n",
    "Epoch: 1\n",
    "\t(train)\t|\tLoss: 0.0044\t|\tAcc: 26.6%\n",
    "\t(valid)\t|\tLoss: 0.0044\t|\tAcc: 26.7%\n",
    "Epoch: 2\n",
    "\t(train)\t|\tLoss: 0.0044\t|\tAcc: 26.7%\n",
    "\t(valid)\t|\tLoss: 0.0044\t|\tAcc: 26.8%\n",
    "Epoch: 3\n",
    "\t(train)\t|\tLoss: 0.0044\t|\tAcc: 26.7%\n",
    "\t(valid)\t|\tLoss: 0.0044\t|\tAcc: 26.9%\n",
    "Epoch: 4\n",
    "\t(train)\t|\tLoss: 0.0044\t|\tAcc: 26.8%\n",
    "\t(valid)\t|\tLoss: 0.0044\t|\tAcc: 26.8%\n",
    "Epoch: 5\n",
    "\t(train)\t|\tLoss: 0.0044\t|\tAcc: 26.7%\n",
    "\t(valid)\t|\tLoss: 0.0044\t|\tAcc: 26.8%\n",
    "Epoch: 6\n",
    "\t(train)\t|\tLoss: 0.0044\t|\tAcc: 26.8%\n",
    "\t(valid)\t|\tLoss: 0.0044\t|\tAcc: 26.7%\n",
    "Epoch: 7\n",
    "\t(train)\t|\tLoss: 0.0044\t|\tAcc: 26.7%\n",
    "\t(valid)\t|\tLoss: 0.0044\t|\tAcc: 26.7%\n",
    "Epoch: 8\n",
    "\t(train)\t|\tLoss: 0.0044\t|\tAcc: 26.8%\n",
    "\t(valid)\t|\tLoss: 0.0044\t|\tAcc: 26.8%\n",
    "Epoch: 9\n",
    "\t(train)\t|\tLoss: 0.0044\t|\tAcc: 26.8%\n",
    "\t(valid)\t|\tLoss: 0.0044\t|\tAcc: 26.8%"
   ]
  },
  {
   "cell_type": "code",
   "execution_count": null,
   "metadata": {},
   "outputs": [],
   "source": []
  }
 ],
 "metadata": {
  "kernelspec": {
   "display_name": "Python 3",
   "language": "python",
   "name": "python3"
  },
  "language_info": {
   "codemirror_mode": {
    "name": "ipython",
    "version": 3
   },
   "file_extension": ".py",
   "mimetype": "text/x-python",
   "name": "python",
   "nbconvert_exporter": "python",
   "pygments_lexer": "ipython3",
   "version": "3.7.6"
  }
 },
 "nbformat": 4,
 "nbformat_minor": 4
}
